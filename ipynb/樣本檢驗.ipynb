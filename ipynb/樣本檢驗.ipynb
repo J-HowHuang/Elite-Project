{
 "cells": [
  {
   "cell_type": "code",
   "execution_count": 3,
   "metadata": {
    "scrolled": false
   },
   "outputs": [
    {
     "name": "stdout",
     "output_type": "stream",
     "text": [
      "'data.frame':\t187 obs. of  21 variables:\n",
      " $ gender                        : int  2 2 1 2 1 2 1 1 1 2 ...\n",
      " $ grade                         : int  3 3 4 3 4 4 3 3 3 4 ...\n",
      " $ school                        : int  1 4 6 2 4 4 2 3 3 2 ...\n",
      " $ isCoM                         : int  0 0 0 0 0 0 0 0 0 0 ...\n",
      " $ hasMacBook                    : int  1 0 0 1 0 1 0 0 0 1 ...\n",
      " $ hasiPhone                     : int  1 1 1 0 0 1 0 0 1 1 ...\n",
      " $ hasSuit                       : int  0 1 0 1 0 1 1 0 1 0 ...\n",
      " $ timeToDressUp                 : int  45 35 15 5 5 5 25 15 25 15 ...\n",
      " $ cafePricePerWeek              : int  150 250 250 50 0 0 150 0 50 150 ...\n",
      " $ mealPricePerDay               : int  150 350 350 150 150 150 150 250 250 250 ...\n",
      " $ hasCreditCard                 : int  1 1 1 0 0 1 0 0 1 0 ...\n",
      " $ hasAttendedBusinessCompetition: int  0 0 0 0 0 0 1 0 1 0 ...\n",
      " $ EnglishProficiency            : int  4 4 3 NA 3 5 2 3 2 5 ...\n",
      " $ coursesInCoM                  : int  0 2 0 0 0 9 2 1 1 0 ...\n",
      " $ coursesInCoMPerYear           : num  0 0.667 0 0 0 ...\n",
      " $ GPA                           : num  3.7 3.92 3.2 3.33 4.29 2.4 3.6 3.9 3 3.4 ...\n",
      " $ exchangeAbroad                : int  0 1 0 0 0 0 0 0 0 0 ...\n",
      " $ numbersOfTravelingAbroad      : num  1.5 1.5 1.5 0 0 1.5 0 0 1.5 1.5 ...\n",
      " $ barPerMonth                   : int  0 2 0 0 0 0 0 0 0 0 ...\n",
      " $ club                          : int  7 1 3 2 7 7 2 2 5 5 ...\n",
      " $ interestInMentionedJob        : int  3 3 2 1 1 5 3 5 5 1 ...\n"
     ]
    }
   ],
   "source": [
    "data <- read.csv(\"D:/JHow/Program/Statistic/elite.csv\")\n",
    "library(ggplot2)\n",
    "library(dplyr)\n",
    "library(tidyr)\n",
    "str(data)"
   ]
  },
  {
   "cell_type": "markdown",
   "metadata": {},
   "source": [
    "## 樣本零：台大全體大二～大四學生"
   ]
  },
  {
   "cell_type": "code",
   "execution_count": 4,
   "metadata": {},
   "outputs": [],
   "source": [
    "sample <- data"
   ]
  },
  {
   "cell_type": "markdown",
   "metadata": {},
   "source": [
    "#### 此樣本性別分布"
   ]
  },
  {
   "cell_type": "code",
   "execution_count": 11,
   "metadata": {},
   "outputs": [
    {
     "data": {
      "text/html": [
       "<table>\n",
       "<caption>A data.frame: 2 × 5</caption>\n",
       "<thead>\n",
       "\t<tr><th scope=col>gender</th><th scope=col>n</th><th scope=col>p</th><th scope=col>actualP</th><th scope=col>difference</th></tr>\n",
       "\t<tr><th scope=col>&lt;int&gt;</th><th scope=col>&lt;int&gt;</th><th scope=col>&lt;dbl&gt;</th><th scope=col>&lt;dbl&gt;</th><th scope=col>&lt;dbl&gt;</th></tr>\n",
       "</thead>\n",
       "<tbody>\n",
       "\t<tr><td>1</td><td>95</td><td>0.5080214</td><td>0.5588</td><td>-0.0508</td></tr>\n",
       "\t<tr><td>2</td><td>92</td><td>0.4919786</td><td>0.4412</td><td> 0.0508</td></tr>\n",
       "</tbody>\n",
       "</table>\n"
      ],
      "text/latex": [
       "A data.frame: 2 × 5\n",
       "\\begin{tabular}{r|lllll}\n",
       " gender & n & p & actualP & difference\\\\\n",
       " <int> & <int> & <dbl> & <dbl> & <dbl>\\\\\n",
       "\\hline\n",
       "\t 1 & 95 & 0.5080214 & 0.5588 & -0.0508\\\\\n",
       "\t 2 & 92 & 0.4919786 & 0.4412 &  0.0508\\\\\n",
       "\\end{tabular}\n"
      ],
      "text/markdown": [
       "\n",
       "A data.frame: 2 × 5\n",
       "\n",
       "| gender &lt;int&gt; | n &lt;int&gt; | p &lt;dbl&gt; | actualP &lt;dbl&gt; | difference &lt;dbl&gt; |\n",
       "|---|---|---|---|---|\n",
       "| 1 | 95 | 0.5080214 | 0.5588 | -0.0508 |\n",
       "| 2 | 92 | 0.4919786 | 0.4412 |  0.0508 |\n",
       "\n"
      ],
      "text/plain": [
       "  gender n  p         actualP difference\n",
       "1 1      95 0.5080214 0.5588  -0.0508   \n",
       "2 2      92 0.4919786 0.4412   0.0508   "
      ]
     },
     "metadata": {},
     "output_type": "display_data"
    }
   ],
   "source": [
    "actualP <- c(0.5588, 0.4412)\n",
    "sample %>% group_by(gender) %>% summarise(n=n()) %>% mutate(p = n / nrow(sample)) %>% cbind(actualP) %>% mutate(difference = round(p - actualP, 4))"
   ]
  },
  {
   "cell_type": "markdown",
   "metadata": {},
   "source": [
    "在性別分布上<br/>\n",
    "誤差約在五個百分點"
   ]
  },
  {
   "cell_type": "markdown",
   "metadata": {},
   "source": [
    "#### 此樣本學院分布"
   ]
  },
  {
   "cell_type": "code",
   "execution_count": 10,
   "metadata": {
    "scrolled": true
   },
   "outputs": [
    {
     "data": {
      "text/html": [
       "<table>\n",
       "<caption>A data.frame: 10 × 5</caption>\n",
       "<thead>\n",
       "\t<tr><th scope=col>school</th><th scope=col>n</th><th scope=col>p</th><th scope=col>actualP</th><th scope=col>difference</th></tr>\n",
       "\t<tr><th scope=col>&lt;int&gt;</th><th scope=col>&lt;int&gt;</th><th scope=col>&lt;dbl&gt;</th><th scope=col>&lt;dbl&gt;</th><th scope=col>&lt;dbl&gt;</th></tr>\n",
       "</thead>\n",
       "<tbody>\n",
       "\t<tr><td> 1</td><td>21</td><td>0.11229947</td><td>0.1272</td><td>-0.0149</td></tr>\n",
       "\t<tr><td> 2</td><td>19</td><td>0.10160428</td><td>0.0983</td><td> 0.0033</td></tr>\n",
       "\t<tr><td> 3</td><td>20</td><td>0.10695187</td><td>0.1086</td><td>-0.0016</td></tr>\n",
       "\t<tr><td> 4</td><td>23</td><td>0.12299465</td><td>0.0969</td><td> 0.0261</td></tr>\n",
       "\t<tr><td> 5</td><td>20</td><td>0.10695187</td><td>0.1261</td><td>-0.0191</td></tr>\n",
       "\t<tr><td> 6</td><td>22</td><td>0.11764706</td><td>0.1403</td><td>-0.0227</td></tr>\n",
       "\t<tr><td> 7</td><td>35</td><td>0.18716578</td><td>0.1315</td><td> 0.0557</td></tr>\n",
       "\t<tr><td> 9</td><td>17</td><td>0.09090909</td><td>0.0839</td><td> 0.0070</td></tr>\n",
       "\t<tr><td>10</td><td> 8</td><td>0.04278075</td><td>0.0528</td><td>-0.0100</td></tr>\n",
       "\t<tr><td>11</td><td> 2</td><td>0.01069519</td><td>0.0241</td><td>-0.0134</td></tr>\n",
       "</tbody>\n",
       "</table>\n"
      ],
      "text/latex": [
       "A data.frame: 10 × 5\n",
       "\\begin{tabular}{r|lllll}\n",
       " school & n & p & actualP & difference\\\\\n",
       " <int> & <int> & <dbl> & <dbl> & <dbl>\\\\\n",
       "\\hline\n",
       "\t  1 & 21 & 0.11229947 & 0.1272 & -0.0149\\\\\n",
       "\t  2 & 19 & 0.10160428 & 0.0983 &  0.0033\\\\\n",
       "\t  3 & 20 & 0.10695187 & 0.1086 & -0.0016\\\\\n",
       "\t  4 & 23 & 0.12299465 & 0.0969 &  0.0261\\\\\n",
       "\t  5 & 20 & 0.10695187 & 0.1261 & -0.0191\\\\\n",
       "\t  6 & 22 & 0.11764706 & 0.1403 & -0.0227\\\\\n",
       "\t  7 & 35 & 0.18716578 & 0.1315 &  0.0557\\\\\n",
       "\t  9 & 17 & 0.09090909 & 0.0839 &  0.0070\\\\\n",
       "\t 10 &  8 & 0.04278075 & 0.0528 & -0.0100\\\\\n",
       "\t 11 &  2 & 0.01069519 & 0.0241 & -0.0134\\\\\n",
       "\\end{tabular}\n"
      ],
      "text/markdown": [
       "\n",
       "A data.frame: 10 × 5\n",
       "\n",
       "| school &lt;int&gt; | n &lt;int&gt; | p &lt;dbl&gt; | actualP &lt;dbl&gt; | difference &lt;dbl&gt; |\n",
       "|---|---|---|---|---|\n",
       "|  1 | 21 | 0.11229947 | 0.1272 | -0.0149 |\n",
       "|  2 | 19 | 0.10160428 | 0.0983 |  0.0033 |\n",
       "|  3 | 20 | 0.10695187 | 0.1086 | -0.0016 |\n",
       "|  4 | 23 | 0.12299465 | 0.0969 |  0.0261 |\n",
       "|  5 | 20 | 0.10695187 | 0.1261 | -0.0191 |\n",
       "|  6 | 22 | 0.11764706 | 0.1403 | -0.0227 |\n",
       "|  7 | 35 | 0.18716578 | 0.1315 |  0.0557 |\n",
       "|  9 | 17 | 0.09090909 | 0.0839 |  0.0070 |\n",
       "| 10 |  8 | 0.04278075 | 0.0528 | -0.0100 |\n",
       "| 11 |  2 | 0.01069519 | 0.0241 | -0.0134 |\n",
       "\n"
      ],
      "text/plain": [
       "   school n  p          actualP difference\n",
       "1   1     21 0.11229947 0.1272  -0.0149   \n",
       "2   2     19 0.10160428 0.0983   0.0033   \n",
       "3   3     20 0.10695187 0.1086  -0.0016   \n",
       "4   4     23 0.12299465 0.0969   0.0261   \n",
       "5   5     20 0.10695187 0.1261  -0.0191   \n",
       "6   6     22 0.11764706 0.1403  -0.0227   \n",
       "7   7     35 0.18716578 0.1315   0.0557   \n",
       "8   9     17 0.09090909 0.0839   0.0070   \n",
       "9  10      8 0.04278075 0.0528  -0.0100   \n",
       "10 11      2 0.01069519 0.0241  -0.0134   "
      ]
     },
     "metadata": {},
     "output_type": "display_data"
    }
   ],
   "source": [
    "actualP <- c(0.1272, \n",
    "0.0983 ,\n",
    "0.1086 ,\n",
    "0.0969 ,\n",
    "0.1261 ,\n",
    "0.1403 ,\n",
    "0.1315 ,\n",
    "0.0839 ,\n",
    "0.0528 ,\n",
    "0.0241 \n",
    ")\n",
    "sample %>% group_by(school) %>% summarise(n=n()) %>% mutate(p = n / nrow(sample)) %>% cbind(actualP) %>% mutate(difference = round(p - actualP, 4))"
   ]
  },
  {
   "cell_type": "markdown",
   "metadata": {},
   "source": [
    "同樣，學院分布上，<br/>\n",
    "誤差最多也在約五個百分點"
   ]
  },
  {
   "cell_type": "markdown",
   "metadata": {},
   "source": [
    "#### 此樣本年級分布"
   ]
  },
  {
   "cell_type": "code",
   "execution_count": 12,
   "metadata": {
    "scrolled": true
   },
   "outputs": [
    {
     "data": {
      "text/html": [
       "<table>\n",
       "<caption>A data.frame: 3 × 5</caption>\n",
       "<thead>\n",
       "\t<tr><th scope=col>grade</th><th scope=col>n</th><th scope=col>p</th><th scope=col>actualP</th><th scope=col>difference</th></tr>\n",
       "\t<tr><th scope=col>&lt;int&gt;</th><th scope=col>&lt;int&gt;</th><th scope=col>&lt;dbl&gt;</th><th scope=col>&lt;dbl&gt;</th><th scope=col>&lt;dbl&gt;</th></tr>\n",
       "</thead>\n",
       "<tbody>\n",
       "\t<tr><td>2</td><td>63</td><td>0.3368984</td><td>0.3488991</td><td>-0.0120</td></tr>\n",
       "\t<tr><td>3</td><td>70</td><td>0.3743316</td><td>0.3296330</td><td> 0.0447</td></tr>\n",
       "\t<tr><td>4</td><td>54</td><td>0.2887701</td><td>0.3214679</td><td>-0.0327</td></tr>\n",
       "</tbody>\n",
       "</table>\n"
      ],
      "text/latex": [
       "A data.frame: 3 × 5\n",
       "\\begin{tabular}{r|lllll}\n",
       " grade & n & p & actualP & difference\\\\\n",
       " <int> & <int> & <dbl> & <dbl> & <dbl>\\\\\n",
       "\\hline\n",
       "\t 2 & 63 & 0.3368984 & 0.3488991 & -0.0120\\\\\n",
       "\t 3 & 70 & 0.3743316 & 0.3296330 &  0.0447\\\\\n",
       "\t 4 & 54 & 0.2887701 & 0.3214679 & -0.0327\\\\\n",
       "\\end{tabular}\n"
      ],
      "text/markdown": [
       "\n",
       "A data.frame: 3 × 5\n",
       "\n",
       "| grade &lt;int&gt; | n &lt;int&gt; | p &lt;dbl&gt; | actualP &lt;dbl&gt; | difference &lt;dbl&gt; |\n",
       "|---|---|---|---|---|\n",
       "| 2 | 63 | 0.3368984 | 0.3488991 | -0.0120 |\n",
       "| 3 | 70 | 0.3743316 | 0.3296330 |  0.0447 |\n",
       "| 4 | 54 | 0.2887701 | 0.3214679 | -0.0327 |\n",
       "\n"
      ],
      "text/plain": [
       "  grade n  p         actualP   difference\n",
       "1 2     63 0.3368984 0.3488991 -0.0120   \n",
       "2 3     70 0.3743316 0.3296330  0.0447   \n",
       "3 4     54 0.2887701 0.3214679 -0.0327   "
      ]
     },
     "metadata": {},
     "output_type": "display_data"
    }
   ],
   "source": [
    "actualP <- c(0.348899083,\n",
    "0.329633028,\n",
    "0.32146789)\n",
    "\n",
    "sample %>% group_by(grade) %>% summarise(n=n()) %>% mutate(p = n / nrow(sample)) %>% cbind(actualP) %>% mutate(difference = round(p - actualP, 4))"
   ]
  },
  {
   "cell_type": "markdown",
   "metadata": {},
   "source": [
    "在年級分布上<br/>\n",
    "誤差不超過五個百分點"
   ]
  },
  {
   "cell_type": "markdown",
   "metadata": {},
   "source": [
    "## 樣本一：台大管院大二～大四學生"
   ]
  },
  {
   "cell_type": "code",
   "execution_count": 16,
   "metadata": {},
   "outputs": [],
   "source": [
    "sample <- data %>% filter(school == 7)"
   ]
  },
  {
   "cell_type": "markdown",
   "metadata": {},
   "source": [
    "#### 此樣本性別分布"
   ]
  },
  {
   "cell_type": "code",
   "execution_count": 17,
   "metadata": {},
   "outputs": [
    {
     "data": {
      "text/html": [
       "<table>\n",
       "<caption>A data.frame: 2 × 5</caption>\n",
       "<thead>\n",
       "\t<tr><th scope=col>gender</th><th scope=col>n</th><th scope=col>p</th><th scope=col>actualP</th><th scope=col>difference</th></tr>\n",
       "\t<tr><th scope=col>&lt;int&gt;</th><th scope=col>&lt;int&gt;</th><th scope=col>&lt;dbl&gt;</th><th scope=col>&lt;dbl&gt;</th><th scope=col>&lt;dbl&gt;</th></tr>\n",
       "</thead>\n",
       "<tbody>\n",
       "\t<tr><td>1</td><td>14</td><td>0.4</td><td>0.4542917</td><td>-0.0543</td></tr>\n",
       "\t<tr><td>2</td><td>21</td><td>0.6</td><td>0.5457083</td><td> 0.0543</td></tr>\n",
       "</tbody>\n",
       "</table>\n"
      ],
      "text/latex": [
       "A data.frame: 2 × 5\n",
       "\\begin{tabular}{r|lllll}\n",
       " gender & n & p & actualP & difference\\\\\n",
       " <int> & <int> & <dbl> & <dbl> & <dbl>\\\\\n",
       "\\hline\n",
       "\t 1 & 14 & 0.4 & 0.4542917 & -0.0543\\\\\n",
       "\t 2 & 21 & 0.6 & 0.5457083 &  0.0543\\\\\n",
       "\\end{tabular}\n"
      ],
      "text/markdown": [
       "\n",
       "A data.frame: 2 × 5\n",
       "\n",
       "| gender &lt;int&gt; | n &lt;int&gt; | p &lt;dbl&gt; | actualP &lt;dbl&gt; | difference &lt;dbl&gt; |\n",
       "|---|---|---|---|---|\n",
       "| 1 | 14 | 0.4 | 0.4542917 | -0.0543 |\n",
       "| 2 | 21 | 0.6 | 0.5457083 |  0.0543 |\n",
       "\n"
      ],
      "text/plain": [
       "  gender n  p   actualP   difference\n",
       "1 1      14 0.4 0.4542917 -0.0543   \n",
       "2 2      21 0.6 0.5457083  0.0543   "
      ]
     },
     "metadata": {},
     "output_type": "display_data"
    }
   ],
   "source": [
    "actualP <- c(0.454291696,\n",
    "0.545708304\n",
    ")\n",
    "sample %>% group_by(gender) %>% summarise(n=n()) %>% mutate(p = n / nrow(sample))%>% cbind(actualP) %>% mutate(difference = round(p - actualP, 4))"
   ]
  },
  {
   "cell_type": "markdown",
   "metadata": {},
   "source": [
    "管院大二到大四學生在性別比上，<br/>\n",
    "誤差在五個百分點"
   ]
  },
  {
   "cell_type": "markdown",
   "metadata": {},
   "source": [
    "#### 此樣本年級分布"
   ]
  },
  {
   "cell_type": "code",
   "execution_count": 18,
   "metadata": {
    "scrolled": true
   },
   "outputs": [
    {
     "data": {
      "text/html": [
       "<table>\n",
       "<caption>A data.frame: 3 × 5</caption>\n",
       "<thead>\n",
       "\t<tr><th scope=col>grade</th><th scope=col>n</th><th scope=col>p</th><th scope=col>actualP</th><th scope=col>difference</th></tr>\n",
       "\t<tr><th scope=col>&lt;int&gt;</th><th scope=col>&lt;int&gt;</th><th scope=col>&lt;dbl&gt;</th><th scope=col>&lt;dbl&gt;</th><th scope=col>&lt;dbl&gt;</th></tr>\n",
       "</thead>\n",
       "<tbody>\n",
       "\t<tr><td>2</td><td>12</td><td>0.3428571</td><td>0.3391486</td><td> 0.0037</td></tr>\n",
       "\t<tr><td>3</td><td>16</td><td>0.4571429</td><td>0.3370551</td><td> 0.1201</td></tr>\n",
       "\t<tr><td>4</td><td> 7</td><td>0.2000000</td><td>0.3237962</td><td>-0.1238</td></tr>\n",
       "</tbody>\n",
       "</table>\n"
      ],
      "text/latex": [
       "A data.frame: 3 × 5\n",
       "\\begin{tabular}{r|lllll}\n",
       " grade & n & p & actualP & difference\\\\\n",
       " <int> & <int> & <dbl> & <dbl> & <dbl>\\\\\n",
       "\\hline\n",
       "\t 2 & 12 & 0.3428571 & 0.3391486 &  0.0037\\\\\n",
       "\t 3 & 16 & 0.4571429 & 0.3370551 &  0.1201\\\\\n",
       "\t 4 &  7 & 0.2000000 & 0.3237962 & -0.1238\\\\\n",
       "\\end{tabular}\n"
      ],
      "text/markdown": [
       "\n",
       "A data.frame: 3 × 5\n",
       "\n",
       "| grade &lt;int&gt; | n &lt;int&gt; | p &lt;dbl&gt; | actualP &lt;dbl&gt; | difference &lt;dbl&gt; |\n",
       "|---|---|---|---|---|\n",
       "| 2 | 12 | 0.3428571 | 0.3391486 |  0.0037 |\n",
       "| 3 | 16 | 0.4571429 | 0.3370551 |  0.1201 |\n",
       "| 4 |  7 | 0.2000000 | 0.3237962 | -0.1238 |\n",
       "\n"
      ],
      "text/plain": [
       "  grade n  p         actualP   difference\n",
       "1 2     12 0.3428571 0.3391486  0.0037   \n",
       "2 3     16 0.4571429 0.3370551  0.1201   \n",
       "3 4      7 0.2000000 0.3237962 -0.1238   "
      ]
     },
     "metadata": {},
     "output_type": "display_data"
    }
   ],
   "source": [
    "actualP <- c(0.339148639,\n",
    "0.337055129,\n",
    "0.323796232\n",
    ")\n",
    "sample %>% group_by(grade) %>% summarise(n=n()) %>% mutate(p = n / nrow(sample))%>% cbind(actualP) %>% mutate(difference = round(p - actualP, 4))"
   ]
  },
  {
   "cell_type": "markdown",
   "metadata": {},
   "source": [
    "在年級分布上，<br/>\n",
    "樣本與母體分布的差距是較大的(12%)<br/>\n",
    "因此在討論管院大二到大四學生時<br/>\n",
    "樣本呈現出來的結果可能無法準確的反應大三與大四的實際狀況"
   ]
  },
  {
   "cell_type": "markdown",
   "metadata": {},
   "source": [
    "## 樣本二：台大非管院大二～大四學生"
   ]
  },
  {
   "cell_type": "code",
   "execution_count": 20,
   "metadata": {},
   "outputs": [],
   "source": [
    "sample <- data %>% filter(school != 7)"
   ]
  },
  {
   "cell_type": "markdown",
   "metadata": {},
   "source": [
    "#### 此樣本性別分布"
   ]
  },
  {
   "cell_type": "code",
   "execution_count": 21,
   "metadata": {},
   "outputs": [
    {
     "data": {
      "text/html": [
       "<table>\n",
       "<caption>A data.frame: 2 × 5</caption>\n",
       "<thead>\n",
       "\t<tr><th scope=col>gender</th><th scope=col>n</th><th scope=col>p</th><th scope=col>actualP</th><th scope=col>difference</th></tr>\n",
       "\t<tr><th scope=col>&lt;int&gt;</th><th scope=col>&lt;int&gt;</th><th scope=col>&lt;dbl&gt;</th><th scope=col>&lt;dbl&gt;</th><th scope=col>&lt;dbl&gt;</th></tr>\n",
       "</thead>\n",
       "<tbody>\n",
       "\t<tr><td>1</td><td>81</td><td>0.5328947</td><td>0.5746277</td><td>-0.0417</td></tr>\n",
       "\t<tr><td>2</td><td>71</td><td>0.4671053</td><td>0.4253723</td><td> 0.0417</td></tr>\n",
       "</tbody>\n",
       "</table>\n"
      ],
      "text/latex": [
       "A data.frame: 2 × 5\n",
       "\\begin{tabular}{r|lllll}\n",
       " gender & n & p & actualP & difference\\\\\n",
       " <int> & <int> & <dbl> & <dbl> & <dbl>\\\\\n",
       "\\hline\n",
       "\t 1 & 81 & 0.5328947 & 0.5746277 & -0.0417\\\\\n",
       "\t 2 & 71 & 0.4671053 & 0.4253723 &  0.0417\\\\\n",
       "\\end{tabular}\n"
      ],
      "text/markdown": [
       "\n",
       "A data.frame: 2 × 5\n",
       "\n",
       "| gender &lt;int&gt; | n &lt;int&gt; | p &lt;dbl&gt; | actualP &lt;dbl&gt; | difference &lt;dbl&gt; |\n",
       "|---|---|---|---|---|\n",
       "| 1 | 81 | 0.5328947 | 0.5746277 | -0.0417 |\n",
       "| 2 | 71 | 0.4671053 | 0.4253723 |  0.0417 |\n",
       "\n"
      ],
      "text/plain": [
       "  gender n  p         actualP   difference\n",
       "1 1      81 0.5328947 0.5746277 -0.0417   \n",
       "2 2      71 0.4671053 0.4253723  0.0417   "
      ]
     },
     "metadata": {},
     "output_type": "display_data"
    }
   ],
   "source": [
    "actualP <- c(0.574627654,\n",
    "0.425372346\n",
    ")\n",
    "sample %>% group_by(gender) %>% summarise(n=n()) %>% mutate(p = n / nrow(sample))%>% cbind(actualP) %>% mutate(difference = round(p - actualP, 4))"
   ]
  },
  {
   "cell_type": "markdown",
   "metadata": {},
   "source": [
    "非管院大二到大四學生在性別分布不超過五個百分點"
   ]
  },
  {
   "cell_type": "markdown",
   "metadata": {},
   "source": [
    "#### 此樣本學院分布"
   ]
  },
  {
   "cell_type": "code",
   "execution_count": 22,
   "metadata": {},
   "outputs": [
    {
     "data": {
      "text/html": [
       "<table>\n",
       "<caption>A data.frame: 9 × 5</caption>\n",
       "<thead>\n",
       "\t<tr><th scope=col>school</th><th scope=col>n</th><th scope=col>p</th><th scope=col>actualP</th><th scope=col>difference</th></tr>\n",
       "\t<tr><th scope=col>&lt;int&gt;</th><th scope=col>&lt;int&gt;</th><th scope=col>&lt;dbl&gt;</th><th scope=col>&lt;dbl&gt;</th><th scope=col>&lt;dbl&gt;</th></tr>\n",
       "</thead>\n",
       "<tbody>\n",
       "\t<tr><td> 1</td><td>21</td><td>0.13815789</td><td>0.1464</td><td>-0.0082</td></tr>\n",
       "\t<tr><td> 2</td><td>19</td><td>0.12500000</td><td>0.1132</td><td> 0.0118</td></tr>\n",
       "\t<tr><td> 3</td><td>20</td><td>0.13157895</td><td>0.1251</td><td> 0.0065</td></tr>\n",
       "\t<tr><td> 4</td><td>23</td><td>0.15131579</td><td>0.1115</td><td> 0.0398</td></tr>\n",
       "\t<tr><td> 5</td><td>20</td><td>0.13157895</td><td>0.1452</td><td>-0.0136</td></tr>\n",
       "\t<tr><td> 6</td><td>22</td><td>0.14473684</td><td>0.1615</td><td>-0.0168</td></tr>\n",
       "\t<tr><td> 9</td><td>17</td><td>0.11184211</td><td>0.0967</td><td> 0.0151</td></tr>\n",
       "\t<tr><td>10</td><td> 8</td><td>0.05263158</td><td>0.0607</td><td>-0.0081</td></tr>\n",
       "\t<tr><td>11</td><td> 2</td><td>0.01315789</td><td>0.0278</td><td>-0.0146</td></tr>\n",
       "</tbody>\n",
       "</table>\n"
      ],
      "text/latex": [
       "A data.frame: 9 × 5\n",
       "\\begin{tabular}{r|lllll}\n",
       " school & n & p & actualP & difference\\\\\n",
       " <int> & <int> & <dbl> & <dbl> & <dbl>\\\\\n",
       "\\hline\n",
       "\t  1 & 21 & 0.13815789 & 0.1464 & -0.0082\\\\\n",
       "\t  2 & 19 & 0.12500000 & 0.1132 &  0.0118\\\\\n",
       "\t  3 & 20 & 0.13157895 & 0.1251 &  0.0065\\\\\n",
       "\t  4 & 23 & 0.15131579 & 0.1115 &  0.0398\\\\\n",
       "\t  5 & 20 & 0.13157895 & 0.1452 & -0.0136\\\\\n",
       "\t  6 & 22 & 0.14473684 & 0.1615 & -0.0168\\\\\n",
       "\t  9 & 17 & 0.11184211 & 0.0967 &  0.0151\\\\\n",
       "\t 10 &  8 & 0.05263158 & 0.0607 & -0.0081\\\\\n",
       "\t 11 &  2 & 0.01315789 & 0.0278 & -0.0146\\\\\n",
       "\\end{tabular}\n"
      ],
      "text/markdown": [
       "\n",
       "A data.frame: 9 × 5\n",
       "\n",
       "| school &lt;int&gt; | n &lt;int&gt; | p &lt;dbl&gt; | actualP &lt;dbl&gt; | difference &lt;dbl&gt; |\n",
       "|---|---|---|---|---|\n",
       "|  1 | 21 | 0.13815789 | 0.1464 | -0.0082 |\n",
       "|  2 | 19 | 0.12500000 | 0.1132 |  0.0118 |\n",
       "|  3 | 20 | 0.13157895 | 0.1251 |  0.0065 |\n",
       "|  4 | 23 | 0.15131579 | 0.1115 |  0.0398 |\n",
       "|  5 | 20 | 0.13157895 | 0.1452 | -0.0136 |\n",
       "|  6 | 22 | 0.14473684 | 0.1615 | -0.0168 |\n",
       "|  9 | 17 | 0.11184211 | 0.0967 |  0.0151 |\n",
       "| 10 |  8 | 0.05263158 | 0.0607 | -0.0081 |\n",
       "| 11 |  2 | 0.01315789 | 0.0278 | -0.0146 |\n",
       "\n"
      ],
      "text/plain": [
       "  school n  p          actualP difference\n",
       "1  1     21 0.13815789 0.1464  -0.0082   \n",
       "2  2     19 0.12500000 0.1132   0.0118   \n",
       "3  3     20 0.13157895 0.1251   0.0065   \n",
       "4  4     23 0.15131579 0.1115   0.0398   \n",
       "5  5     20 0.13157895 0.1452  -0.0136   \n",
       "6  6     22 0.14473684 0.1615  -0.0168   \n",
       "7  9     17 0.11184211 0.0967   0.0151   \n",
       "8 10      8 0.05263158 0.0607  -0.0081   \n",
       "9 11      2 0.01315789 0.0278  -0.0146   "
      ]
     },
     "metadata": {},
     "output_type": "display_data"
    }
   ],
   "source": [
    "actualP <- c(0.1464 ,\n",
    "0.1132 ,\n",
    "0.1251 ,\n",
    "0.1115 ,\n",
    "0.1452 ,\n",
    "0.1615 ,\n",
    "0.0967 ,\n",
    "0.0607 ,\n",
    "0.0278 \n",
    ")\n",
    "sample %>% group_by(school) %>% summarise(n=n()) %>% mutate(p = n / nrow(sample)) %>% cbind(actualP) %>% mutate(difference = round(p - actualP, 4))"
   ]
  },
  {
   "cell_type": "markdown",
   "metadata": {},
   "source": [
    "在非管院的學院分布中，<br/>\n",
    "跟母體的非管院學院分布差異不超過四個百分點，讚"
   ]
  },
  {
   "cell_type": "markdown",
   "metadata": {},
   "source": [
    "#### 此樣本年級分布"
   ]
  },
  {
   "cell_type": "code",
   "execution_count": 23,
   "metadata": {
    "scrolled": true
   },
   "outputs": [
    {
     "data": {
      "text/html": [
       "<table>\n",
       "<caption>A data.frame: 3 × 5</caption>\n",
       "<thead>\n",
       "\t<tr><th scope=col>grade</th><th scope=col>n</th><th scope=col>p</th><th scope=col>actualP</th><th scope=col>difference</th></tr>\n",
       "\t<tr><th scope=col>&lt;int&gt;</th><th scope=col>&lt;int&gt;</th><th scope=col>&lt;dbl&gt;</th><th scope=col>&lt;dbl&gt;</th><th scope=col>&lt;dbl&gt;</th></tr>\n",
       "</thead>\n",
       "<tbody>\n",
       "\t<tr><td>2</td><td>51</td><td>0.3355263</td><td>0.3503750</td><td>-0.0148</td></tr>\n",
       "\t<tr><td>3</td><td>54</td><td>0.3552632</td><td>0.3285096</td><td> 0.0268</td></tr>\n",
       "\t<tr><td>4</td><td>47</td><td>0.3092105</td><td>0.3211155</td><td>-0.0119</td></tr>\n",
       "</tbody>\n",
       "</table>\n"
      ],
      "text/latex": [
       "A data.frame: 3 × 5\n",
       "\\begin{tabular}{r|lllll}\n",
       " grade & n & p & actualP & difference\\\\\n",
       " <int> & <int> & <dbl> & <dbl> & <dbl>\\\\\n",
       "\\hline\n",
       "\t 2 & 51 & 0.3355263 & 0.3503750 & -0.0148\\\\\n",
       "\t 3 & 54 & 0.3552632 & 0.3285096 &  0.0268\\\\\n",
       "\t 4 & 47 & 0.3092105 & 0.3211155 & -0.0119\\\\\n",
       "\\end{tabular}\n"
      ],
      "text/markdown": [
       "\n",
       "A data.frame: 3 × 5\n",
       "\n",
       "| grade &lt;int&gt; | n &lt;int&gt; | p &lt;dbl&gt; | actualP &lt;dbl&gt; | difference &lt;dbl&gt; |\n",
       "|---|---|---|---|---|\n",
       "| 2 | 51 | 0.3355263 | 0.3503750 | -0.0148 |\n",
       "| 3 | 54 | 0.3552632 | 0.3285096 |  0.0268 |\n",
       "| 4 | 47 | 0.3092105 | 0.3211155 | -0.0119 |\n",
       "\n"
      ],
      "text/plain": [
       "  grade n  p         actualP   difference\n",
       "1 2     51 0.3355263 0.3503750 -0.0148   \n",
       "2 3     54 0.3552632 0.3285096  0.0268   \n",
       "3 4     47 0.3092105 0.3211155 -0.0119   "
      ]
     },
     "metadata": {},
     "output_type": "display_data"
    }
   ],
   "source": [
    "actualP <- c(0.350374987,\n",
    "0.32850956,\n",
    "0.321115454\n",
    ")\n",
    "sample %>% group_by(grade) %>% summarise(n=n()) %>% mutate(p = n / nrow(sample)) %>% cbind(actualP) %>% mutate(difference = round(p - actualP, 4))"
   ]
  },
  {
   "cell_type": "markdown",
   "metadata": {},
   "source": [
    "在性別分布上，<br/>\n",
    "更是不超過三個百分點，<br/>\n",
    "能驗證我們在非管院大二到大四的學生的抽樣有一定的代表性"
   ]
  },
  {
   "cell_type": "markdown",
   "metadata": {},
   "source": [
    "## 樣本三：台大男性學生"
   ]
  },
  {
   "cell_type": "code",
   "execution_count": 27,
   "metadata": {},
   "outputs": [],
   "source": [
    "sample <- data %>% filter(gender == 1)"
   ]
  },
  {
   "cell_type": "markdown",
   "metadata": {},
   "source": [
    "#### 此樣本學院分布"
   ]
  },
  {
   "cell_type": "code",
   "execution_count": 28,
   "metadata": {},
   "outputs": [
    {
     "data": {
      "text/html": [
       "<table>\n",
       "<caption>A data.frame: 10 × 5</caption>\n",
       "<thead>\n",
       "\t<tr><th scope=col>school</th><th scope=col>n</th><th scope=col>p</th><th scope=col>actualP</th><th scope=col>difference</th></tr>\n",
       "\t<tr><th scope=col>&lt;int&gt;</th><th scope=col>&lt;int&gt;</th><th scope=col>&lt;dbl&gt;</th><th scope=col>&lt;dbl&gt;</th><th scope=col>&lt;dbl&gt;</th></tr>\n",
       "</thead>\n",
       "<tbody>\n",
       "\t<tr><td> 1</td><td> 6</td><td>0.06315789</td><td>0.07076014</td><td>-0.0076</td></tr>\n",
       "\t<tr><td> 2</td><td>11</td><td>0.11578947</td><td>0.12263996</td><td>-0.0069</td></tr>\n",
       "\t<tr><td> 3</td><td>10</td><td>0.10526316</td><td>0.08471515</td><td> 0.0205</td></tr>\n",
       "\t<tr><td> 4</td><td>10</td><td>0.10526316</td><td>0.09555081</td><td> 0.0097</td></tr>\n",
       "\t<tr><td> 5</td><td>14</td><td>0.14736842</td><td>0.18157938</td><td>-0.0342</td></tr>\n",
       "\t<tr><td> 6</td><td>11</td><td>0.11578947</td><td>0.13725168</td><td>-0.0215</td></tr>\n",
       "\t<tr><td> 7</td><td>14</td><td>0.14736842</td><td>0.10687900</td><td> 0.0405</td></tr>\n",
       "\t<tr><td> 9</td><td>14</td><td>0.14736842</td><td>0.12969956</td><td> 0.0177</td></tr>\n",
       "\t<tr><td>10</td><td> 3</td><td>0.03157895</td><td>0.04071581</td><td>-0.0091</td></tr>\n",
       "\t<tr><td>11</td><td> 2</td><td>0.02105263</td><td>0.02331309</td><td>-0.0023</td></tr>\n",
       "</tbody>\n",
       "</table>\n"
      ],
      "text/latex": [
       "A data.frame: 10 × 5\n",
       "\\begin{tabular}{r|lllll}\n",
       " school & n & p & actualP & difference\\\\\n",
       " <int> & <int> & <dbl> & <dbl> & <dbl>\\\\\n",
       "\\hline\n",
       "\t  1 &  6 & 0.06315789 & 0.07076014 & -0.0076\\\\\n",
       "\t  2 & 11 & 0.11578947 & 0.12263996 & -0.0069\\\\\n",
       "\t  3 & 10 & 0.10526316 & 0.08471515 &  0.0205\\\\\n",
       "\t  4 & 10 & 0.10526316 & 0.09555081 &  0.0097\\\\\n",
       "\t  5 & 14 & 0.14736842 & 0.18157938 & -0.0342\\\\\n",
       "\t  6 & 11 & 0.11578947 & 0.13725168 & -0.0215\\\\\n",
       "\t  7 & 14 & 0.14736842 & 0.10687900 &  0.0405\\\\\n",
       "\t  9 & 14 & 0.14736842 & 0.12969956 &  0.0177\\\\\n",
       "\t 10 &  3 & 0.03157895 & 0.04071581 & -0.0091\\\\\n",
       "\t 11 &  2 & 0.02105263 & 0.02331309 & -0.0023\\\\\n",
       "\\end{tabular}\n"
      ],
      "text/markdown": [
       "\n",
       "A data.frame: 10 × 5\n",
       "\n",
       "| school &lt;int&gt; | n &lt;int&gt; | p &lt;dbl&gt; | actualP &lt;dbl&gt; | difference &lt;dbl&gt; |\n",
       "|---|---|---|---|---|\n",
       "|  1 |  6 | 0.06315789 | 0.07076014 | -0.0076 |\n",
       "|  2 | 11 | 0.11578947 | 0.12263996 | -0.0069 |\n",
       "|  3 | 10 | 0.10526316 | 0.08471515 |  0.0205 |\n",
       "|  4 | 10 | 0.10526316 | 0.09555081 |  0.0097 |\n",
       "|  5 | 14 | 0.14736842 | 0.18157938 | -0.0342 |\n",
       "|  6 | 11 | 0.11578947 | 0.13725168 | -0.0215 |\n",
       "|  7 | 14 | 0.14736842 | 0.10687900 |  0.0405 |\n",
       "|  9 | 14 | 0.14736842 | 0.12969956 |  0.0177 |\n",
       "| 10 |  3 | 0.03157895 | 0.04071581 | -0.0091 |\n",
       "| 11 |  2 | 0.02105263 | 0.02331309 | -0.0023 |\n",
       "\n"
      ],
      "text/plain": [
       "   school n  p          actualP    difference\n",
       "1   1      6 0.06315789 0.07076014 -0.0076   \n",
       "2   2     11 0.11578947 0.12263996 -0.0069   \n",
       "3   3     10 0.10526316 0.08471515  0.0205   \n",
       "4   4     10 0.10526316 0.09555081  0.0097   \n",
       "5   5     14 0.14736842 0.18157938 -0.0342   \n",
       "6   6     11 0.11578947 0.13725168 -0.0215   \n",
       "7   7     14 0.14736842 0.10687900  0.0405   \n",
       "8   9     14 0.14736842 0.12969956  0.0177   \n",
       "9  10      3 0.03157895 0.04071581 -0.0091   \n",
       "10 11      2 0.02105263 0.02331309 -0.0023   "
      ]
     },
     "metadata": {},
     "output_type": "display_data"
    }
   ],
   "source": [
    "actualP <- c(0.070760138,\n",
    "0.122639961,\n",
    "0.084715154,\n",
    "0.095550813,\n",
    "0.181579379,\n",
    "0.137251683,\n",
    "0.106879002,\n",
    "0.129699557,\n",
    "0.04071581,\n",
    "0.023313085\n",
    ")\n",
    "sample %>% group_by(school) %>% summarise(n=n()) %>% mutate(p = n / nrow(sample)) %>% cbind(actualP) %>% mutate(difference = round(p - actualP, 4))"
   ]
  },
  {
   "cell_type": "markdown",
   "metadata": {},
   "source": [
    "台大大二到大四男性的學院分布約在四個百分點以下"
   ]
  },
  {
   "cell_type": "markdown",
   "metadata": {},
   "source": [
    "#### 此樣本年級分布"
   ]
  },
  {
   "cell_type": "code",
   "execution_count": 29,
   "metadata": {
    "scrolled": true
   },
   "outputs": [
    {
     "data": {
      "text/html": [
       "<table>\n",
       "<caption>A data.frame: 3 × 5</caption>\n",
       "<thead>\n",
       "\t<tr><th scope=col>grade</th><th scope=col>n</th><th scope=col>p</th><th scope=col>actualP</th><th scope=col>difference</th></tr>\n",
       "\t<tr><th scope=col>&lt;int&gt;</th><th scope=col>&lt;int&gt;</th><th scope=col>&lt;dbl&gt;</th><th scope=col>&lt;dbl&gt;</th><th scope=col>&lt;dbl&gt;</th></tr>\n",
       "</thead>\n",
       "<tbody>\n",
       "\t<tr><td>2</td><td>36</td><td>0.3789474</td><td>0.3505172</td><td> 0.0284</td></tr>\n",
       "\t<tr><td>3</td><td>30</td><td>0.3157895</td><td>0.3301593</td><td>-0.0144</td></tr>\n",
       "\t<tr><td>4</td><td>29</td><td>0.3052632</td><td>0.3193236</td><td>-0.0141</td></tr>\n",
       "</tbody>\n",
       "</table>\n"
      ],
      "text/latex": [
       "A data.frame: 3 × 5\n",
       "\\begin{tabular}{r|lllll}\n",
       " grade & n & p & actualP & difference\\\\\n",
       " <int> & <int> & <dbl> & <dbl> & <dbl>\\\\\n",
       "\\hline\n",
       "\t 2 & 36 & 0.3789474 & 0.3505172 &  0.0284\\\\\n",
       "\t 3 & 30 & 0.3157895 & 0.3301593 & -0.0144\\\\\n",
       "\t 4 & 29 & 0.3052632 & 0.3193236 & -0.0141\\\\\n",
       "\\end{tabular}\n"
      ],
      "text/markdown": [
       "\n",
       "A data.frame: 3 × 5\n",
       "\n",
       "| grade &lt;int&gt; | n &lt;int&gt; | p &lt;dbl&gt; | actualP &lt;dbl&gt; | difference &lt;dbl&gt; |\n",
       "|---|---|---|---|---|\n",
       "| 2 | 36 | 0.3789474 | 0.3505172 |  0.0284 |\n",
       "| 3 | 30 | 0.3157895 | 0.3301593 | -0.0144 |\n",
       "| 4 | 29 | 0.3052632 | 0.3193236 | -0.0141 |\n",
       "\n"
      ],
      "text/plain": [
       "  grade n  p         actualP   difference\n",
       "1 2     36 0.3789474 0.3505172  0.0284   \n",
       "2 3     30 0.3157895 0.3301593 -0.0144   \n",
       "3 4     29 0.3052632 0.3193236 -0.0141   "
      ]
     },
     "metadata": {},
     "output_type": "display_data"
    }
   ],
   "source": [
    "actualP <- c(0.350517156,0.330159251,0.319323592\n",
    ")\n",
    "sample %>% group_by(grade) %>% summarise(n=n()) %>% mutate(p = n / nrow(sample)) %>% cbind(actualP) %>% mutate(difference = round(p - actualP, 4))"
   ]
  },
  {
   "cell_type": "markdown",
   "metadata": {},
   "source": [
    "台大大二到大四男性在年級分布更在三個百分點以下"
   ]
  },
  {
   "cell_type": "markdown",
   "metadata": {},
   "source": [
    "## 樣本四：台大女性學生"
   ]
  },
  {
   "cell_type": "code",
   "execution_count": 33,
   "metadata": {},
   "outputs": [],
   "source": [
    "sample <- data %>% filter(gender == 2)"
   ]
  },
  {
   "cell_type": "markdown",
   "metadata": {},
   "source": [
    "#### 此樣本學院分布"
   ]
  },
  {
   "cell_type": "code",
   "execution_count": 36,
   "metadata": {},
   "outputs": [
    {
     "data": {
      "text/html": [
       "<table>\n",
       "<caption>A data.frame: 10 × 5</caption>\n",
       "<thead>\n",
       "\t<tr><th scope=col>school</th><th scope=col>n</th><th scope=col>p</th><th scope=col>actualP</th><th scope=col>difference</th></tr>\n",
       "\t<tr><th scope=col>&lt;dbl&gt;</th><th scope=col>&lt;dbl&gt;</th><th scope=col>&lt;dbl&gt;</th><th scope=col>&lt;dbl&gt;</th><th scope=col>&lt;dbl&gt;</th></tr>\n",
       "</thead>\n",
       "<tbody>\n",
       "\t<tr><td> 1</td><td>15</td><td>0.16304348</td><td>0.19858598</td><td>-0.0355</td></tr>\n",
       "\t<tr><td> 2</td><td> 8</td><td>0.08695652</td><td>0.06758162</td><td> 0.0194</td></tr>\n",
       "\t<tr><td> 3</td><td>10</td><td>0.10869565</td><td>0.13890622</td><td>-0.0302</td></tr>\n",
       "\t<tr><td> 4</td><td>13</td><td>0.14130435</td><td>0.09856519</td><td> 0.0427</td></tr>\n",
       "\t<tr><td> 5</td><td> 6</td><td>0.06521739</td><td>0.05593679</td><td> 0.0093</td></tr>\n",
       "\t<tr><td> 6</td><td>11</td><td>0.11956522</td><td>0.14410480</td><td>-0.0245</td></tr>\n",
       "\t<tr><td> 7</td><td>21</td><td>0.22826087</td><td>0.16261177</td><td> 0.0656</td></tr>\n",
       "\t<tr><td> 9</td><td> 3</td><td>0.03260870</td><td>0.02599293</td><td> 0.0066</td></tr>\n",
       "\t<tr><td>10</td><td> 5</td><td>0.05434783</td><td>0.06799750</td><td>-0.0136</td></tr>\n",
       "\t<tr><td>11</td><td> 0</td><td>0.00000000</td><td>0.02516116</td><td>-0.0252</td></tr>\n",
       "</tbody>\n",
       "</table>\n"
      ],
      "text/latex": [
       "A data.frame: 10 × 5\n",
       "\\begin{tabular}{r|lllll}\n",
       " school & n & p & actualP & difference\\\\\n",
       " <dbl> & <dbl> & <dbl> & <dbl> & <dbl>\\\\\n",
       "\\hline\n",
       "\t  1 & 15 & 0.16304348 & 0.19858598 & -0.0355\\\\\n",
       "\t  2 &  8 & 0.08695652 & 0.06758162 &  0.0194\\\\\n",
       "\t  3 & 10 & 0.10869565 & 0.13890622 & -0.0302\\\\\n",
       "\t  4 & 13 & 0.14130435 & 0.09856519 &  0.0427\\\\\n",
       "\t  5 &  6 & 0.06521739 & 0.05593679 &  0.0093\\\\\n",
       "\t  6 & 11 & 0.11956522 & 0.14410480 & -0.0245\\\\\n",
       "\t  7 & 21 & 0.22826087 & 0.16261177 &  0.0656\\\\\n",
       "\t  9 &  3 & 0.03260870 & 0.02599293 &  0.0066\\\\\n",
       "\t 10 &  5 & 0.05434783 & 0.06799750 & -0.0136\\\\\n",
       "\t 11 &  0 & 0.00000000 & 0.02516116 & -0.0252\\\\\n",
       "\\end{tabular}\n"
      ],
      "text/markdown": [
       "\n",
       "A data.frame: 10 × 5\n",
       "\n",
       "| school &lt;dbl&gt; | n &lt;dbl&gt; | p &lt;dbl&gt; | actualP &lt;dbl&gt; | difference &lt;dbl&gt; |\n",
       "|---|---|---|---|---|\n",
       "|  1 | 15 | 0.16304348 | 0.19858598 | -0.0355 |\n",
       "|  2 |  8 | 0.08695652 | 0.06758162 |  0.0194 |\n",
       "|  3 | 10 | 0.10869565 | 0.13890622 | -0.0302 |\n",
       "|  4 | 13 | 0.14130435 | 0.09856519 |  0.0427 |\n",
       "|  5 |  6 | 0.06521739 | 0.05593679 |  0.0093 |\n",
       "|  6 | 11 | 0.11956522 | 0.14410480 | -0.0245 |\n",
       "|  7 | 21 | 0.22826087 | 0.16261177 |  0.0656 |\n",
       "|  9 |  3 | 0.03260870 | 0.02599293 |  0.0066 |\n",
       "| 10 |  5 | 0.05434783 | 0.06799750 | -0.0136 |\n",
       "| 11 |  0 | 0.00000000 | 0.02516116 | -0.0252 |\n",
       "\n"
      ],
      "text/plain": [
       "   school n  p          actualP    difference\n",
       "1   1     15 0.16304348 0.19858598 -0.0355   \n",
       "2   2      8 0.08695652 0.06758162  0.0194   \n",
       "3   3     10 0.10869565 0.13890622 -0.0302   \n",
       "4   4     13 0.14130435 0.09856519  0.0427   \n",
       "5   5      6 0.06521739 0.05593679  0.0093   \n",
       "6   6     11 0.11956522 0.14410480 -0.0245   \n",
       "7   7     21 0.22826087 0.16261177  0.0656   \n",
       "8   9      3 0.03260870 0.02599293  0.0066   \n",
       "9  10      5 0.05434783 0.06799750 -0.0136   \n",
       "10 11      0 0.00000000 0.02516116 -0.0252   "
      ]
     },
     "metadata": {},
     "output_type": "display_data"
    }
   ],
   "source": [
    "actualP <- c(0.198585985,\n",
    "0.067581618,\n",
    "0.138906218,\n",
    "0.09856519,\n",
    "0.055936785,\n",
    "0.144104803,\n",
    "0.16261177,\n",
    "0.02599293,\n",
    "0.067997505,\n",
    "0.025161156\n",
    ")\n",
    "sample %>% group_by(school) %>% summarise(n=n()) %>% mutate(p = n / nrow(sample)) %>% rbind(c(11, 0, 0))  %>% cbind(actualP) %>% mutate(difference = round(p - actualP, 4))"
   ]
  },
  {
   "cell_type": "markdown",
   "metadata": {},
   "source": [
    "台大大二到大四女學生<br/>\n",
    "在學院分布中，管院的比例偏高(6.5%)<br/>\n",
    "因此樣本會稍微受管院學生影響而較無整體代表性"
   ]
  },
  {
   "cell_type": "markdown",
   "metadata": {},
   "source": [
    "#### 此樣本年級分布"
   ]
  },
  {
   "cell_type": "code",
   "execution_count": 37,
   "metadata": {
    "scrolled": true
   },
   "outputs": [
    {
     "data": {
      "text/html": [
       "<table>\n",
       "<caption>A data.frame: 3 × 5</caption>\n",
       "<thead>\n",
       "\t<tr><th scope=col>grade</th><th scope=col>n</th><th scope=col>p</th><th scope=col>actualP</th><th scope=col>difference</th></tr>\n",
       "\t<tr><th scope=col>&lt;int&gt;</th><th scope=col>&lt;int&gt;</th><th scope=col>&lt;dbl&gt;</th><th scope=col>&lt;dbl&gt;</th><th scope=col>&lt;dbl&gt;</th></tr>\n",
       "</thead>\n",
       "<tbody>\n",
       "\t<tr><td>2</td><td>27</td><td>0.2934783</td><td>0.3468497</td><td>-0.0534</td></tr>\n",
       "\t<tr><td>3</td><td>40</td><td>0.4347826</td><td>0.3289665</td><td> 0.1058</td></tr>\n",
       "\t<tr><td>4</td><td>25</td><td>0.2717391</td><td>0.3241838</td><td>-0.0524</td></tr>\n",
       "</tbody>\n",
       "</table>\n"
      ],
      "text/latex": [
       "A data.frame: 3 × 5\n",
       "\\begin{tabular}{r|lllll}\n",
       " grade & n & p & actualP & difference\\\\\n",
       " <int> & <int> & <dbl> & <dbl> & <dbl>\\\\\n",
       "\\hline\n",
       "\t 2 & 27 & 0.2934783 & 0.3468497 & -0.0534\\\\\n",
       "\t 3 & 40 & 0.4347826 & 0.3289665 &  0.1058\\\\\n",
       "\t 4 & 25 & 0.2717391 & 0.3241838 & -0.0524\\\\\n",
       "\\end{tabular}\n"
      ],
      "text/markdown": [
       "\n",
       "A data.frame: 3 × 5\n",
       "\n",
       "| grade &lt;int&gt; | n &lt;int&gt; | p &lt;dbl&gt; | actualP &lt;dbl&gt; | difference &lt;dbl&gt; |\n",
       "|---|---|---|---|---|\n",
       "| 2 | 27 | 0.2934783 | 0.3468497 | -0.0534 |\n",
       "| 3 | 40 | 0.4347826 | 0.3289665 |  0.1058 |\n",
       "| 4 | 25 | 0.2717391 | 0.3241838 | -0.0524 |\n",
       "\n"
      ],
      "text/plain": [
       "  grade n  p         actualP   difference\n",
       "1 2     27 0.2934783 0.3468497 -0.0534   \n",
       "2 3     40 0.4347826 0.3289665  0.1058   \n",
       "3 4     25 0.2717391 0.3241838 -0.0524   "
      ]
     },
     "metadata": {},
     "output_type": "display_data"
    }
   ],
   "source": [
    "actualP <- c(0.346849657,0.328966521,0.324183822\n",
    ")\n",
    "sample %>% group_by(grade) %>% summarise(n=n()) %>% mutate(p = n / nrow(sample))  %>% cbind(actualP) %>% mutate(difference = round(p - actualP, 4))"
   ]
  },
  {
   "cell_type": "markdown",
   "metadata": {},
   "source": [
    "在年級分布的部分，大三學生的比例明顯高於大二與大四<br/>\n",
    "因此此樣本容易受大三學生影響而較無整體代表性"
   ]
  },
  {
   "cell_type": "markdown",
   "metadata": {},
   "source": [
    "## 樣本五：台大大二學生"
   ]
  },
  {
   "cell_type": "code",
   "execution_count": 39,
   "metadata": {},
   "outputs": [],
   "source": [
    "sample <- data %>% filter(grade == 2)"
   ]
  },
  {
   "cell_type": "markdown",
   "metadata": {},
   "source": [
    "#### 此樣本性別分布"
   ]
  },
  {
   "cell_type": "code",
   "execution_count": 40,
   "metadata": {},
   "outputs": [
    {
     "data": {
      "text/html": [
       "<table>\n",
       "<caption>A data.frame: 2 × 5</caption>\n",
       "<thead>\n",
       "\t<tr><th scope=col>gender</th><th scope=col>n</th><th scope=col>p</th><th scope=col>actualP</th><th scope=col>difference</th></tr>\n",
       "\t<tr><th scope=col>&lt;int&gt;</th><th scope=col>&lt;int&gt;</th><th scope=col>&lt;dbl&gt;</th><th scope=col>&lt;dbl&gt;</th><th scope=col>&lt;dbl&gt;</th></tr>\n",
       "</thead>\n",
       "<tbody>\n",
       "\t<tr><td>1</td><td>36</td><td>0.5714286</td><td>0.5613989</td><td> 0.01</td></tr>\n",
       "\t<tr><td>2</td><td>27</td><td>0.4285714</td><td>0.4386011</td><td>-0.01</td></tr>\n",
       "</tbody>\n",
       "</table>\n"
      ],
      "text/latex": [
       "A data.frame: 2 × 5\n",
       "\\begin{tabular}{r|lllll}\n",
       " gender & n & p & actualP & difference\\\\\n",
       " <int> & <int> & <dbl> & <dbl> & <dbl>\\\\\n",
       "\\hline\n",
       "\t 1 & 36 & 0.5714286 & 0.5613989 &  0.01\\\\\n",
       "\t 2 & 27 & 0.4285714 & 0.4386011 & -0.01\\\\\n",
       "\\end{tabular}\n"
      ],
      "text/markdown": [
       "\n",
       "A data.frame: 2 × 5\n",
       "\n",
       "| gender &lt;int&gt; | n &lt;int&gt; | p &lt;dbl&gt; | actualP &lt;dbl&gt; | difference &lt;dbl&gt; |\n",
       "|---|---|---|---|---|\n",
       "| 1 | 36 | 0.5714286 | 0.5613989 |  0.01 |\n",
       "| 2 | 27 | 0.4285714 | 0.4386011 | -0.01 |\n",
       "\n"
      ],
      "text/plain": [
       "  gender n  p         actualP   difference\n",
       "1 1      36 0.5714286 0.5613989  0.01     \n",
       "2 2      27 0.4285714 0.4386011 -0.01     "
      ]
     },
     "metadata": {},
     "output_type": "display_data"
    }
   ],
   "source": [
    "actualP <- c(0.561398896,0.438601104\n",
    ")\n",
    "sample %>% group_by(gender) %>% summarise(n=n()) %>% mutate(p = n / nrow(sample)) %>% cbind(actualP) %>% mutate(difference = round(p - actualP, 4))"
   ]
  },
  {
   "cell_type": "markdown",
   "metadata": {},
   "source": [
    "樣本中的大二學生，<br/>\n",
    "在性別的分布上僅有一個百分點之差"
   ]
  },
  {
   "cell_type": "markdown",
   "metadata": {},
   "source": [
    "#### 此樣本學院分布"
   ]
  },
  {
   "cell_type": "code",
   "execution_count": 42,
   "metadata": {},
   "outputs": [
    {
     "data": {
      "text/html": [
       "<table>\n",
       "<caption>A data.frame: 10 × 5</caption>\n",
       "<thead>\n",
       "\t<tr><th scope=col>school</th><th scope=col>n</th><th scope=col>p</th><th scope=col>actualP</th><th scope=col>difference</th></tr>\n",
       "\t<tr><th scope=col>&lt;int&gt;</th><th scope=col>&lt;int&gt;</th><th scope=col>&lt;dbl&gt;</th><th scope=col>&lt;dbl&gt;</th><th scope=col>&lt;dbl&gt;</th></tr>\n",
       "</thead>\n",
       "<tbody>\n",
       "\t<tr><td> 1</td><td> 7</td><td>0.11111111</td><td>0.12726795</td><td>-0.0162</td></tr>\n",
       "\t<tr><td> 2</td><td> 5</td><td>0.07936508</td><td>0.09623981</td><td>-0.0169</td></tr>\n",
       "\t<tr><td> 3</td><td> 8</td><td>0.12698413</td><td>0.10938733</td><td> 0.0176</td></tr>\n",
       "\t<tr><td> 4</td><td> 6</td><td>0.09523810</td><td>0.10176177</td><td>-0.0065</td></tr>\n",
       "\t<tr><td> 5</td><td> 5</td><td>0.07936508</td><td>0.12384959</td><td>-0.0445</td></tr>\n",
       "\t<tr><td> 6</td><td> 6</td><td>0.09523810</td><td>0.14725217</td><td>-0.0520</td></tr>\n",
       "\t<tr><td> 7</td><td>12</td><td>0.19047619</td><td>0.12779385</td><td> 0.0627</td></tr>\n",
       "\t<tr><td> 9</td><td> 9</td><td>0.14285714</td><td>0.08309230</td><td> 0.0598</td></tr>\n",
       "\t<tr><td>10</td><td> 4</td><td>0.06349206</td><td>0.05232711</td><td> 0.0112</td></tr>\n",
       "\t<tr><td>11</td><td> 1</td><td>0.01587302</td><td>0.01998422</td><td>-0.0041</td></tr>\n",
       "</tbody>\n",
       "</table>\n"
      ],
      "text/latex": [
       "A data.frame: 10 × 5\n",
       "\\begin{tabular}{r|lllll}\n",
       " school & n & p & actualP & difference\\\\\n",
       " <int> & <int> & <dbl> & <dbl> & <dbl>\\\\\n",
       "\\hline\n",
       "\t  1 &  7 & 0.11111111 & 0.12726795 & -0.0162\\\\\n",
       "\t  2 &  5 & 0.07936508 & 0.09623981 & -0.0169\\\\\n",
       "\t  3 &  8 & 0.12698413 & 0.10938733 &  0.0176\\\\\n",
       "\t  4 &  6 & 0.09523810 & 0.10176177 & -0.0065\\\\\n",
       "\t  5 &  5 & 0.07936508 & 0.12384959 & -0.0445\\\\\n",
       "\t  6 &  6 & 0.09523810 & 0.14725217 & -0.0520\\\\\n",
       "\t  7 & 12 & 0.19047619 & 0.12779385 &  0.0627\\\\\n",
       "\t  9 &  9 & 0.14285714 & 0.08309230 &  0.0598\\\\\n",
       "\t 10 &  4 & 0.06349206 & 0.05232711 &  0.0112\\\\\n",
       "\t 11 &  1 & 0.01587302 & 0.01998422 & -0.0041\\\\\n",
       "\\end{tabular}\n"
      ],
      "text/markdown": [
       "\n",
       "A data.frame: 10 × 5\n",
       "\n",
       "| school &lt;int&gt; | n &lt;int&gt; | p &lt;dbl&gt; | actualP &lt;dbl&gt; | difference &lt;dbl&gt; |\n",
       "|---|---|---|---|---|\n",
       "|  1 |  7 | 0.11111111 | 0.12726795 | -0.0162 |\n",
       "|  2 |  5 | 0.07936508 | 0.09623981 | -0.0169 |\n",
       "|  3 |  8 | 0.12698413 | 0.10938733 |  0.0176 |\n",
       "|  4 |  6 | 0.09523810 | 0.10176177 | -0.0065 |\n",
       "|  5 |  5 | 0.07936508 | 0.12384959 | -0.0445 |\n",
       "|  6 |  6 | 0.09523810 | 0.14725217 | -0.0520 |\n",
       "|  7 | 12 | 0.19047619 | 0.12779385 |  0.0627 |\n",
       "|  9 |  9 | 0.14285714 | 0.08309230 |  0.0598 |\n",
       "| 10 |  4 | 0.06349206 | 0.05232711 |  0.0112 |\n",
       "| 11 |  1 | 0.01587302 | 0.01998422 | -0.0041 |\n",
       "\n"
      ],
      "text/plain": [
       "   school n  p          actualP    difference\n",
       "1   1      7 0.11111111 0.12726795 -0.0162   \n",
       "2   2      5 0.07936508 0.09623981 -0.0169   \n",
       "3   3      8 0.12698413 0.10938733  0.0176   \n",
       "4   4      6 0.09523810 0.10176177 -0.0065   \n",
       "5   5      5 0.07936508 0.12384959 -0.0445   \n",
       "6   6      6 0.09523810 0.14725217 -0.0520   \n",
       "7   7     12 0.19047619 0.12779385  0.0627   \n",
       "8   9      9 0.14285714 0.08309230  0.0598   \n",
       "9  10      4 0.06349206 0.05232711  0.0112   \n",
       "10 11      1 0.01587302 0.01998422 -0.0041   "
      ]
     },
     "metadata": {},
     "output_type": "display_data"
    }
   ],
   "source": [
    "actualP <- c(0.127267946,\n",
    "0.096239811,\n",
    "0.109387326,\n",
    "0.101761767,\n",
    "0.123849592,\n",
    "0.147252169,\n",
    "0.127793847,\n",
    "0.083092296,\n",
    "0.05232711,\n",
    "0.019984223\n",
    ")\n",
    "sample %>% group_by(school) %>% summarise(n=n()) %>% mutate(p = n / nrow(sample)) %>% cbind(actualP) %>% mutate(difference = round(p - actualP, 4))"
   ]
  },
  {
   "cell_type": "markdown",
   "metadata": {},
   "source": [
    "樣本中大二學生在管院、電資學院分布較多(6.27%, 5.98%)<br/>\n",
    "生農學院分布較少(5.2%)<br/>\n",
    "以學院分布來看代表性略為不足"
   ]
  },
  {
   "cell_type": "markdown",
   "metadata": {},
   "source": [
    "## 樣本六：台大大三學生"
   ]
  },
  {
   "cell_type": "code",
   "execution_count": 44,
   "metadata": {},
   "outputs": [],
   "source": [
    "sample <- data %>% filter(grade == 3)"
   ]
  },
  {
   "cell_type": "markdown",
   "metadata": {},
   "source": [
    "#### 此樣本性別分布"
   ]
  },
  {
   "cell_type": "code",
   "execution_count": 45,
   "metadata": {},
   "outputs": [
    {
     "data": {
      "text/html": [
       "<table>\n",
       "<caption>A data.frame: 2 × 5</caption>\n",
       "<thead>\n",
       "\t<tr><th scope=col>gender</th><th scope=col>n</th><th scope=col>p</th><th scope=col>actualP</th><th scope=col>difference</th></tr>\n",
       "\t<tr><th scope=col>&lt;int&gt;</th><th scope=col>&lt;int&gt;</th><th scope=col>&lt;dbl&gt;</th><th scope=col>&lt;dbl&gt;</th><th scope=col>&lt;dbl&gt;</th></tr>\n",
       "</thead>\n",
       "<tbody>\n",
       "\t<tr><td>1</td><td>30</td><td>0.4285714</td><td>0.5596994</td><td>-0.1311</td></tr>\n",
       "\t<tr><td>2</td><td>40</td><td>0.5714286</td><td>0.4403006</td><td> 0.1311</td></tr>\n",
       "</tbody>\n",
       "</table>\n"
      ],
      "text/latex": [
       "A data.frame: 2 × 5\n",
       "\\begin{tabular}{r|lllll}\n",
       " gender & n & p & actualP & difference\\\\\n",
       " <int> & <int> & <dbl> & <dbl> & <dbl>\\\\\n",
       "\\hline\n",
       "\t 1 & 30 & 0.4285714 & 0.5596994 & -0.1311\\\\\n",
       "\t 2 & 40 & 0.5714286 & 0.4403006 &  0.1311\\\\\n",
       "\\end{tabular}\n"
      ],
      "text/markdown": [
       "\n",
       "A data.frame: 2 × 5\n",
       "\n",
       "| gender &lt;int&gt; | n &lt;int&gt; | p &lt;dbl&gt; | actualP &lt;dbl&gt; | difference &lt;dbl&gt; |\n",
       "|---|---|---|---|---|\n",
       "| 1 | 30 | 0.4285714 | 0.5596994 | -0.1311 |\n",
       "| 2 | 40 | 0.5714286 | 0.4403006 |  0.1311 |\n",
       "\n"
      ],
      "text/plain": [
       "  gender n  p         actualP   difference\n",
       "1 1      30 0.4285714 0.5596994 -0.1311   \n",
       "2 2      40 0.5714286 0.4403006  0.1311   "
      ]
     },
     "metadata": {},
     "output_type": "display_data"
    }
   ],
   "source": [
    "actualP <- c(0.559699416,0.440300584\n",
    "\n",
    ")\n",
    "sample %>% group_by(gender) %>% summarise(n=n()) %>% mutate(p = n / nrow(sample)) %>% cbind(actualP) %>% mutate(difference = round(p - actualP, 4))"
   ]
  },
  {
   "cell_type": "markdown",
   "metadata": {},
   "source": [
    "樣本中的大三學生，<br/>\n",
    "是此次抽樣中偏差最為嚴重的一群，<br/>\n",
    "尤其在性別分布上<br/>\n",
    "出現了高達13%的差距"
   ]
  },
  {
   "cell_type": "markdown",
   "metadata": {},
   "source": [
    "#### 此樣本學院分布"
   ]
  },
  {
   "cell_type": "code",
   "execution_count": 46,
   "metadata": {},
   "outputs": [
    {
     "data": {
      "text/html": [
       "<table>\n",
       "<caption>A data.frame: 10 × 5</caption>\n",
       "<thead>\n",
       "\t<tr><th scope=col>school</th><th scope=col>n</th><th scope=col>p</th><th scope=col>actualP</th><th scope=col>difference</th></tr>\n",
       "\t<tr><th scope=col>&lt;int&gt;</th><th scope=col>&lt;int&gt;</th><th scope=col>&lt;dbl&gt;</th><th scope=col>&lt;dbl&gt;</th><th scope=col>&lt;dbl&gt;</th></tr>\n",
       "</thead>\n",
       "<tbody>\n",
       "\t<tr><td> 1</td><td> 8</td><td>0.11428571</td><td>0.12357361</td><td>-0.0093</td></tr>\n",
       "\t<tr><td> 2</td><td> 7</td><td>0.10000000</td><td>0.09657668</td><td> 0.0034</td></tr>\n",
       "\t<tr><td> 3</td><td> 7</td><td>0.10000000</td><td>0.10826607</td><td>-0.0083</td></tr>\n",
       "\t<tr><td> 4</td><td>12</td><td>0.17142857</td><td>0.09435013</td><td> 0.0771</td></tr>\n",
       "\t<tr><td> 5</td><td> 4</td><td>0.05714286</td><td>0.13080991</td><td>-0.0737</td></tr>\n",
       "\t<tr><td> 6</td><td> 8</td><td>0.11428571</td><td>0.13665461</td><td>-0.0224</td></tr>\n",
       "\t<tr><td> 7</td><td>16</td><td>0.22857143</td><td>0.13442805</td><td> 0.0941</td></tr>\n",
       "\t<tr><td> 9</td><td> 4</td><td>0.05714286</td><td>0.08572224</td><td>-0.0286</td></tr>\n",
       "\t<tr><td>10</td><td> 3</td><td>0.04285714</td><td>0.05455052</td><td>-0.0117</td></tr>\n",
       "\t<tr><td>11</td><td> 1</td><td>0.01428571</td><td>0.02588366</td><td>-0.0116</td></tr>\n",
       "</tbody>\n",
       "</table>\n"
      ],
      "text/latex": [
       "A data.frame: 10 × 5\n",
       "\\begin{tabular}{r|lllll}\n",
       " school & n & p & actualP & difference\\\\\n",
       " <int> & <int> & <dbl> & <dbl> & <dbl>\\\\\n",
       "\\hline\n",
       "\t  1 &  8 & 0.11428571 & 0.12357361 & -0.0093\\\\\n",
       "\t  2 &  7 & 0.10000000 & 0.09657668 &  0.0034\\\\\n",
       "\t  3 &  7 & 0.10000000 & 0.10826607 & -0.0083\\\\\n",
       "\t  4 & 12 & 0.17142857 & 0.09435013 &  0.0771\\\\\n",
       "\t  5 &  4 & 0.05714286 & 0.13080991 & -0.0737\\\\\n",
       "\t  6 &  8 & 0.11428571 & 0.13665461 & -0.0224\\\\\n",
       "\t  7 & 16 & 0.22857143 & 0.13442805 &  0.0941\\\\\n",
       "\t  9 &  4 & 0.05714286 & 0.08572224 & -0.0286\\\\\n",
       "\t 10 &  3 & 0.04285714 & 0.05455052 & -0.0117\\\\\n",
       "\t 11 &  1 & 0.01428571 & 0.02588366 & -0.0116\\\\\n",
       "\\end{tabular}\n"
      ],
      "text/markdown": [
       "\n",
       "A data.frame: 10 × 5\n",
       "\n",
       "| school &lt;int&gt; | n &lt;int&gt; | p &lt;dbl&gt; | actualP &lt;dbl&gt; | difference &lt;dbl&gt; |\n",
       "|---|---|---|---|---|\n",
       "|  1 |  8 | 0.11428571 | 0.12357361 | -0.0093 |\n",
       "|  2 |  7 | 0.10000000 | 0.09657668 |  0.0034 |\n",
       "|  3 |  7 | 0.10000000 | 0.10826607 | -0.0083 |\n",
       "|  4 | 12 | 0.17142857 | 0.09435013 |  0.0771 |\n",
       "|  5 |  4 | 0.05714286 | 0.13080991 | -0.0737 |\n",
       "|  6 |  8 | 0.11428571 | 0.13665461 | -0.0224 |\n",
       "|  7 | 16 | 0.22857143 | 0.13442805 |  0.0941 |\n",
       "|  9 |  4 | 0.05714286 | 0.08572224 | -0.0286 |\n",
       "| 10 |  3 | 0.04285714 | 0.05455052 | -0.0117 |\n",
       "| 11 |  1 | 0.01428571 | 0.02588366 | -0.0116 |\n",
       "\n"
      ],
      "text/plain": [
       "   school n  p          actualP    difference\n",
       "1   1      8 0.11428571 0.12357361 -0.0093   \n",
       "2   2      7 0.10000000 0.09657668  0.0034   \n",
       "3   3      7 0.10000000 0.10826607 -0.0083   \n",
       "4   4     12 0.17142857 0.09435013  0.0771   \n",
       "5   5      4 0.05714286 0.13080991 -0.0737   \n",
       "6   6      8 0.11428571 0.13665461 -0.0224   \n",
       "7   7     16 0.22857143 0.13442805  0.0941   \n",
       "8   9      4 0.05714286 0.08572224 -0.0286   \n",
       "9  10      3 0.04285714 0.05455052 -0.0117   \n",
       "10 11      1 0.01428571 0.02588366 -0.0116   "
      ]
     },
     "metadata": {},
     "output_type": "display_data"
    }
   ],
   "source": [
    "actualP <- c(0.123573615,\n",
    "0.096576677,\n",
    "0.108266073,\n",
    "0.094350125,\n",
    "0.130809908,\n",
    "0.136654606,\n",
    "0.134428055,\n",
    "0.085722238,\n",
    "0.054550515,\n",
    "0.025883663\n",
    ")\n",
    "sample %>% group_by(school) %>% summarise(n=n()) %>% mutate(p = n / nrow(sample)) %>% cbind(actualP) %>% mutate(difference = round(p - actualP, 4))"
   ]
  },
  {
   "cell_type": "markdown",
   "metadata": {},
   "source": [
    "在學院分布上，<br/>\n",
    "醫學院、管院、工學院的差距也較大(7.71%, 9.41%, -7.37%)<br/>\n",
    "造成在大三學生這個母體中的代表性不足"
   ]
  },
  {
   "cell_type": "markdown",
   "metadata": {},
   "source": [
    "## 樣本七：台大大四學生"
   ]
  },
  {
   "cell_type": "code",
   "execution_count": 56,
   "metadata": {},
   "outputs": [],
   "source": [
    "sample <- data %>% filter(grade == 4)"
   ]
  },
  {
   "cell_type": "markdown",
   "metadata": {},
   "source": [
    "#### 此樣本性別分布"
   ]
  },
  {
   "cell_type": "code",
   "execution_count": 57,
   "metadata": {},
   "outputs": [
    {
     "data": {
      "text/html": [
       "<table>\n",
       "<caption>A data.frame: 2 × 5</caption>\n",
       "<thead>\n",
       "\t<tr><th scope=col>gender</th><th scope=col>n</th><th scope=col>p</th><th scope=col>actualP</th><th scope=col>difference</th></tr>\n",
       "\t<tr><th scope=col>&lt;int&gt;</th><th scope=col>&lt;int&gt;</th><th scope=col>&lt;dbl&gt;</th><th scope=col>&lt;dbl&gt;</th><th scope=col>&lt;dbl&gt;</th></tr>\n",
       "</thead>\n",
       "<tbody>\n",
       "\t<tr><td>1</td><td>29</td><td>0.537037</td><td>0.5550799</td><td>-0.018</td></tr>\n",
       "\t<tr><td>2</td><td>25</td><td>0.462963</td><td>0.4449201</td><td> 0.018</td></tr>\n",
       "</tbody>\n",
       "</table>\n"
      ],
      "text/latex": [
       "A data.frame: 2 × 5\n",
       "\\begin{tabular}{r|lllll}\n",
       " gender & n & p & actualP & difference\\\\\n",
       " <int> & <int> & <dbl> & <dbl> & <dbl>\\\\\n",
       "\\hline\n",
       "\t 1 & 29 & 0.537037 & 0.5550799 & -0.018\\\\\n",
       "\t 2 & 25 & 0.462963 & 0.4449201 &  0.018\\\\\n",
       "\\end{tabular}\n"
      ],
      "text/markdown": [
       "\n",
       "A data.frame: 2 × 5\n",
       "\n",
       "| gender &lt;int&gt; | n &lt;int&gt; | p &lt;dbl&gt; | actualP &lt;dbl&gt; | difference &lt;dbl&gt; |\n",
       "|---|---|---|---|---|\n",
       "| 1 | 29 | 0.537037 | 0.5550799 | -0.018 |\n",
       "| 2 | 25 | 0.462963 | 0.4449201 |  0.018 |\n",
       "\n"
      ],
      "text/plain": [
       "  gender n  p        actualP   difference\n",
       "1 1      29 0.537037 0.5550799 -0.018    \n",
       "2 2      25 0.462963 0.4449201  0.018    "
      ]
     },
     "metadata": {},
     "output_type": "display_data"
    }
   ],
   "source": [
    "actualP <- c(0.555079909,0.444920091\n",
    "\n",
    "\n",
    ")\n",
    "sample %>% group_by(gender) %>% summarise(n=n()) %>% mutate(p = n / nrow(sample)) %>% cbind(actualP) %>% mutate(difference = round(p - actualP, 4))"
   ]
  },
  {
   "cell_type": "markdown",
   "metadata": {},
   "source": [
    "樣本中大四學生的性別分布差距母體不到兩個百分點"
   ]
  },
  {
   "cell_type": "markdown",
   "metadata": {},
   "source": [
    "#### 此樣本學院分布"
   ]
  },
  {
   "cell_type": "code",
   "execution_count": 61,
   "metadata": {},
   "outputs": [
    {
     "data": {
      "text/html": [
       "<table>\n",
       "<caption>A data.frame: 10 × 5</caption>\n",
       "<thead>\n",
       "\t<tr><th scope=col>school</th><th scope=col>n</th><th scope=col>p</th><th scope=col>actualP</th><th scope=col>difference</th></tr>\n",
       "\t<tr><th scope=col>&lt;dbl&gt;</th><th scope=col>&lt;dbl&gt;</th><th scope=col>&lt;dbl&gt;</th><th scope=col>&lt;dbl&gt;</th><th scope=col>&lt;dbl&gt;</th></tr>\n",
       "</thead>\n",
       "<tbody>\n",
       "\t<tr><td> 1</td><td> 6</td><td>0.11111111</td><td>0.13070776</td><td>-0.0196</td></tr>\n",
       "\t<tr><td> 2</td><td> 7</td><td>0.12962963</td><td>0.10245434</td><td> 0.0272</td></tr>\n",
       "\t<tr><td> 3</td><td> 5</td><td>0.09259259</td><td>0.10816210</td><td>-0.0156</td></tr>\n",
       "\t<tr><td> 4</td><td> 5</td><td>0.09259259</td><td>0.09417808</td><td>-0.0016</td></tr>\n",
       "\t<tr><td> 5</td><td>11</td><td>0.20370370</td><td>0.12385845</td><td> 0.0798</td></tr>\n",
       "\t<tr><td> 6</td><td> 8</td><td>0.14814815</td><td>0.13641553</td><td> 0.0117</td></tr>\n",
       "\t<tr><td> 7</td><td> 7</td><td>0.12962963</td><td>0.13242009</td><td>-0.0028</td></tr>\n",
       "\t<tr><td> 9</td><td> 4</td><td>0.07407407</td><td>0.08304794</td><td>-0.0090</td></tr>\n",
       "\t<tr><td>10</td><td> 1</td><td>0.01851852</td><td>0.05136986</td><td>-0.0329</td></tr>\n",
       "\t<tr><td>11</td><td> 0</td><td>0.00000000</td><td>0.02682648</td><td>-0.0268</td></tr>\n",
       "</tbody>\n",
       "</table>\n"
      ],
      "text/latex": [
       "A data.frame: 10 × 5\n",
       "\\begin{tabular}{r|lllll}\n",
       " school & n & p & actualP & difference\\\\\n",
       " <dbl> & <dbl> & <dbl> & <dbl> & <dbl>\\\\\n",
       "\\hline\n",
       "\t  1 &  6 & 0.11111111 & 0.13070776 & -0.0196\\\\\n",
       "\t  2 &  7 & 0.12962963 & 0.10245434 &  0.0272\\\\\n",
       "\t  3 &  5 & 0.09259259 & 0.10816210 & -0.0156\\\\\n",
       "\t  4 &  5 & 0.09259259 & 0.09417808 & -0.0016\\\\\n",
       "\t  5 & 11 & 0.20370370 & 0.12385845 &  0.0798\\\\\n",
       "\t  6 &  8 & 0.14814815 & 0.13641553 &  0.0117\\\\\n",
       "\t  7 &  7 & 0.12962963 & 0.13242009 & -0.0028\\\\\n",
       "\t  9 &  4 & 0.07407407 & 0.08304794 & -0.0090\\\\\n",
       "\t 10 &  1 & 0.01851852 & 0.05136986 & -0.0329\\\\\n",
       "\t 11 &  0 & 0.00000000 & 0.02682648 & -0.0268\\\\\n",
       "\\end{tabular}\n"
      ],
      "text/markdown": [
       "\n",
       "A data.frame: 10 × 5\n",
       "\n",
       "| school &lt;dbl&gt; | n &lt;dbl&gt; | p &lt;dbl&gt; | actualP &lt;dbl&gt; | difference &lt;dbl&gt; |\n",
       "|---|---|---|---|---|\n",
       "|  1 |  6 | 0.11111111 | 0.13070776 | -0.0196 |\n",
       "|  2 |  7 | 0.12962963 | 0.10245434 |  0.0272 |\n",
       "|  3 |  5 | 0.09259259 | 0.10816210 | -0.0156 |\n",
       "|  4 |  5 | 0.09259259 | 0.09417808 | -0.0016 |\n",
       "|  5 | 11 | 0.20370370 | 0.12385845 |  0.0798 |\n",
       "|  6 |  8 | 0.14814815 | 0.13641553 |  0.0117 |\n",
       "|  7 |  7 | 0.12962963 | 0.13242009 | -0.0028 |\n",
       "|  9 |  4 | 0.07407407 | 0.08304794 | -0.0090 |\n",
       "| 10 |  1 | 0.01851852 | 0.05136986 | -0.0329 |\n",
       "| 11 |  0 | 0.00000000 | 0.02682648 | -0.0268 |\n",
       "\n"
      ],
      "text/plain": [
       "   school n  p          actualP    difference\n",
       "1   1      6 0.11111111 0.13070776 -0.0196   \n",
       "2   2      7 0.12962963 0.10245434  0.0272   \n",
       "3   3      5 0.09259259 0.10816210 -0.0156   \n",
       "4   4      5 0.09259259 0.09417808 -0.0016   \n",
       "5   5     11 0.20370370 0.12385845  0.0798   \n",
       "6   6      8 0.14814815 0.13641553  0.0117   \n",
       "7   7      7 0.12962963 0.13242009 -0.0028   \n",
       "8   9      4 0.07407407 0.08304794 -0.0090   \n",
       "9  10      1 0.01851852 0.05136986 -0.0329   \n",
       "10 11      0 0.00000000 0.02682648 -0.0268   "
      ]
     },
     "metadata": {},
     "output_type": "display_data"
    }
   ],
   "source": [
    "actualP <- c(0.130707763,\n",
    "0.102454338,\n",
    "0.1081621,\n",
    "0.094178082,\n",
    "0.123858447,\n",
    "0.136415525,\n",
    "0.132420091,\n",
    "0.083047945,\n",
    "0.051369863,\n",
    "0.026826484\n",
    ")\n",
    "sample %>% group_by(school) %>% summarise(n=n()) %>% mutate(p = n / nrow(sample)) %>% rbind(c(11, 0, 0))%>% cbind(actualP) %>% mutate(difference = round(p - actualP, 4))"
   ]
  },
  {
   "cell_type": "markdown",
   "metadata": {},
   "source": [
    "此樣本在工學院的分布較高(7.98%)<br/>\n",
    "有一定程度會影響樣本的代表性"
   ]
  }
 ],
 "metadata": {
  "kernelspec": {
   "display_name": "R",
   "language": "R",
   "name": "ir"
  },
  "language_info": {
   "codemirror_mode": "r",
   "file_extension": ".r",
   "mimetype": "text/x-r-source",
   "name": "R",
   "pygments_lexer": "r",
   "version": "3.5.2"
  }
 },
 "nbformat": 4,
 "nbformat_minor": 2
}
