{
 "cells": [
  {
   "cell_type": "code",
   "execution_count": 2,
   "metadata": {
    "scrolled": false
   },
   "outputs": [
    {
     "name": "stdout",
     "output_type": "stream",
     "text": [
      "'data.frame':\t187 obs. of  21 variables:\n",
      " $ gender                        : int  2 2 1 2 1 2 1 1 1 2 ...\n",
      " $ grade                         : int  3 3 4 3 4 4 3 3 3 4 ...\n",
      " $ school                        : int  1 4 6 2 4 4 2 3 3 2 ...\n",
      " $ isCoM                         : int  0 0 0 0 0 0 0 0 0 0 ...\n",
      " $ hasMacBook                    : int  1 0 0 1 0 1 0 0 0 1 ...\n",
      " $ hasiPhone                     : int  1 1 1 0 0 1 0 0 1 1 ...\n",
      " $ hasSuit                       : int  0 1 0 1 0 1 1 0 1 0 ...\n",
      " $ timeToDressUp                 : int  45 35 15 5 5 5 25 15 25 15 ...\n",
      " $ cafePricePerWeek              : int  150 250 250 50 0 0 150 0 50 150 ...\n",
      " $ mealPricePerDay               : Factor w/ 6 levels \"150\",\"250\",\"350\",..: 1 3 3 1 1 1 1 2 2 2 ...\n",
      " $ hasCreditCard                 : int  1 1 1 0 0 1 0 0 1 0 ...\n",
      " $ hasAttendedBusinessCompetition: int  0 0 0 0 0 0 1 0 1 0 ...\n",
      " $ EnglishProficiency            : int  4 4 3 NA 3 5 2 3 2 5 ...\n",
      " $ coursesInCoM                  : int  0 2 0 0 0 9 2 1 1 0 ...\n",
      " $ coursesInCoMPerYear           : num  0 0.667 0 0 0 ...\n",
      " $ GPA                           : num  3.7 3.92 3.2 3.33 4.29 2.4 3.6 3.9 3 3.4 ...\n",
      " $ exchangeAbroad                : int  0 1 0 0 0 0 0 0 0 0 ...\n",
      " $ numbersOfTravelingAbroad      : num  1.5 1.5 1.5 0 0 1.5 0 0 1.5 1.5 ...\n",
      " $ barPerMonth                   : int  0 2 0 0 0 0 0 0 0 0 ...\n",
      " $ club                          : int  7 1 3 2 7 7 2 2 5 5 ...\n",
      " $ interestInMentionedJob        : int  3 3 2 1 1 5 3 5 5 1 ...\n"
     ]
    }
   ],
   "source": [
    "data <- read.csv(\"D:/JHow/Program/Statistic/elite.csv\")\n",
    "library(ggplot2)\n",
    "library(dplyr)\n",
    "library(tidyr)\n",
    "str(data)"
   ]
  },
  {
   "cell_type": "markdown",
   "metadata": {},
   "source": [
    "## 樣本零：台大全體大二～大四學生"
   ]
  },
  {
   "cell_type": "code",
   "execution_count": 41,
   "metadata": {},
   "outputs": [],
   "source": [
    "sample <- data"
   ]
  },
  {
   "cell_type": "markdown",
   "metadata": {},
   "source": [
    "#### 此樣本性別分布"
   ]
  },
  {
   "cell_type": "code",
   "execution_count": 42,
   "metadata": {},
   "outputs": [
    {
     "data": {
      "text/html": [
       "<table>\n",
       "<caption>A tibble: 2 × 3</caption>\n",
       "<thead>\n",
       "\t<tr><th scope=col>gender</th><th scope=col>n</th><th scope=col>p</th></tr>\n",
       "\t<tr><th scope=col>&lt;int&gt;</th><th scope=col>&lt;int&gt;</th><th scope=col>&lt;dbl&gt;</th></tr>\n",
       "</thead>\n",
       "<tbody>\n",
       "\t<tr><td>1</td><td>95</td><td>0.5080214</td></tr>\n",
       "\t<tr><td>2</td><td>92</td><td>0.4919786</td></tr>\n",
       "</tbody>\n",
       "</table>\n"
      ],
      "text/latex": [
       "A tibble: 2 × 3\n",
       "\\begin{tabular}{r|lll}\n",
       " gender & n & p\\\\\n",
       " <int> & <int> & <dbl>\\\\\n",
       "\\hline\n",
       "\t 1 & 95 & 0.5080214\\\\\n",
       "\t 2 & 92 & 0.4919786\\\\\n",
       "\\end{tabular}\n"
      ],
      "text/markdown": [
       "\n",
       "A tibble: 2 × 3\n",
       "\n",
       "| gender &lt;int&gt; | n &lt;int&gt; | p &lt;dbl&gt; |\n",
       "|---|---|---|\n",
       "| 1 | 95 | 0.5080214 |\n",
       "| 2 | 92 | 0.4919786 |\n",
       "\n"
      ],
      "text/plain": [
       "  gender n  p        \n",
       "1 1      95 0.5080214\n",
       "2 2      92 0.4919786"
      ]
     },
     "metadata": {},
     "output_type": "display_data"
    }
   ],
   "source": [
    "sample %>% group_by(gender) %>% summarise(n=n()) %>% mutate(p = n / nrow(sample))"
   ]
  },
  {
   "cell_type": "markdown",
   "metadata": {},
   "source": [
    "母體比例為:<br/>\n",
    "男:55.8%<br/>\n",
    "女:44.2%<br/>"
   ]
  },
  {
   "cell_type": "markdown",
   "metadata": {},
   "source": [
    "#### 此樣本學院分布"
   ]
  },
  {
   "cell_type": "code",
   "execution_count": 43,
   "metadata": {},
   "outputs": [
    {
     "data": {
      "text/html": [
       "<table>\n",
       "<caption>A tibble: 10 × 3</caption>\n",
       "<thead>\n",
       "\t<tr><th scope=col>school</th><th scope=col>n</th><th scope=col>p</th></tr>\n",
       "\t<tr><th scope=col>&lt;int&gt;</th><th scope=col>&lt;int&gt;</th><th scope=col>&lt;dbl&gt;</th></tr>\n",
       "</thead>\n",
       "<tbody>\n",
       "\t<tr><td> 1</td><td>21</td><td>0.11229947</td></tr>\n",
       "\t<tr><td> 2</td><td>19</td><td>0.10160428</td></tr>\n",
       "\t<tr><td> 3</td><td>20</td><td>0.10695187</td></tr>\n",
       "\t<tr><td> 4</td><td>23</td><td>0.12299465</td></tr>\n",
       "\t<tr><td> 5</td><td>20</td><td>0.10695187</td></tr>\n",
       "\t<tr><td> 6</td><td>22</td><td>0.11764706</td></tr>\n",
       "\t<tr><td> 7</td><td>35</td><td>0.18716578</td></tr>\n",
       "\t<tr><td> 9</td><td>17</td><td>0.09090909</td></tr>\n",
       "\t<tr><td>10</td><td> 8</td><td>0.04278075</td></tr>\n",
       "\t<tr><td>11</td><td> 2</td><td>0.01069519</td></tr>\n",
       "</tbody>\n",
       "</table>\n"
      ],
      "text/latex": [
       "A tibble: 10 × 3\n",
       "\\begin{tabular}{r|lll}\n",
       " school & n & p\\\\\n",
       " <int> & <int> & <dbl>\\\\\n",
       "\\hline\n",
       "\t  1 & 21 & 0.11229947\\\\\n",
       "\t  2 & 19 & 0.10160428\\\\\n",
       "\t  3 & 20 & 0.10695187\\\\\n",
       "\t  4 & 23 & 0.12299465\\\\\n",
       "\t  5 & 20 & 0.10695187\\\\\n",
       "\t  6 & 22 & 0.11764706\\\\\n",
       "\t  7 & 35 & 0.18716578\\\\\n",
       "\t  9 & 17 & 0.09090909\\\\\n",
       "\t 10 &  8 & 0.04278075\\\\\n",
       "\t 11 &  2 & 0.01069519\\\\\n",
       "\\end{tabular}\n"
      ],
      "text/markdown": [
       "\n",
       "A tibble: 10 × 3\n",
       "\n",
       "| school &lt;int&gt; | n &lt;int&gt; | p &lt;dbl&gt; |\n",
       "|---|---|---|\n",
       "|  1 | 21 | 0.11229947 |\n",
       "|  2 | 19 | 0.10160428 |\n",
       "|  3 | 20 | 0.10695187 |\n",
       "|  4 | 23 | 0.12299465 |\n",
       "|  5 | 20 | 0.10695187 |\n",
       "|  6 | 22 | 0.11764706 |\n",
       "|  7 | 35 | 0.18716578 |\n",
       "|  9 | 17 | 0.09090909 |\n",
       "| 10 |  8 | 0.04278075 |\n",
       "| 11 |  2 | 0.01069519 |\n",
       "\n"
      ],
      "text/plain": [
       "   school n  p         \n",
       "1   1     21 0.11229947\n",
       "2   2     19 0.10160428\n",
       "3   3     20 0.10695187\n",
       "4   4     23 0.12299465\n",
       "5   5     20 0.10695187\n",
       "6   6     22 0.11764706\n",
       "7   7     35 0.18716578\n",
       "8   9     17 0.09090909\n",
       "9  10      8 0.04278075\n",
       "10 11      2 0.01069519"
      ]
     },
     "metadata": {},
     "output_type": "display_data"
    }
   ],
   "source": [
    "sample %>% group_by(school) %>% summarise(n=n()) %>% mutate(p = n / nrow(sample))"
   ]
  },
  {
   "cell_type": "markdown",
   "metadata": {},
   "source": [
    "#### 此樣本年級分布"
   ]
  },
  {
   "cell_type": "code",
   "execution_count": 44,
   "metadata": {
    "scrolled": true
   },
   "outputs": [
    {
     "data": {
      "text/html": [
       "<table>\n",
       "<caption>A tibble: 3 × 3</caption>\n",
       "<thead>\n",
       "\t<tr><th scope=col>grade</th><th scope=col>n</th><th scope=col>p</th></tr>\n",
       "\t<tr><th scope=col>&lt;int&gt;</th><th scope=col>&lt;int&gt;</th><th scope=col>&lt;dbl&gt;</th></tr>\n",
       "</thead>\n",
       "<tbody>\n",
       "\t<tr><td>2</td><td>63</td><td>0.3368984</td></tr>\n",
       "\t<tr><td>3</td><td>70</td><td>0.3743316</td></tr>\n",
       "\t<tr><td>4</td><td>54</td><td>0.2887701</td></tr>\n",
       "</tbody>\n",
       "</table>\n"
      ],
      "text/latex": [
       "A tibble: 3 × 3\n",
       "\\begin{tabular}{r|lll}\n",
       " grade & n & p\\\\\n",
       " <int> & <int> & <dbl>\\\\\n",
       "\\hline\n",
       "\t 2 & 63 & 0.3368984\\\\\n",
       "\t 3 & 70 & 0.3743316\\\\\n",
       "\t 4 & 54 & 0.2887701\\\\\n",
       "\\end{tabular}\n"
      ],
      "text/markdown": [
       "\n",
       "A tibble: 3 × 3\n",
       "\n",
       "| grade &lt;int&gt; | n &lt;int&gt; | p &lt;dbl&gt; |\n",
       "|---|---|---|\n",
       "| 2 | 63 | 0.3368984 |\n",
       "| 3 | 70 | 0.3743316 |\n",
       "| 4 | 54 | 0.2887701 |\n",
       "\n"
      ],
      "text/plain": [
       "  grade n  p        \n",
       "1 2     63 0.3368984\n",
       "2 3     70 0.3743316\n",
       "3 4     54 0.2887701"
      ]
     },
     "metadata": {},
     "output_type": "display_data"
    }
   ],
   "source": [
    "sample %>% group_by(grade) %>% summarise(n=n()) %>% mutate(p = n / nrow(sample))"
   ]
  },
  {
   "cell_type": "markdown",
   "metadata": {},
   "source": [
    "## 樣本一：台大管院大二～大四學生"
   ]
  },
  {
   "cell_type": "code",
   "execution_count": 5,
   "metadata": {},
   "outputs": [],
   "source": [
    "sample <- data %>% filter(school == 7)"
   ]
  },
  {
   "cell_type": "markdown",
   "metadata": {},
   "source": [
    "#### 此樣本性別分布"
   ]
  },
  {
   "cell_type": "code",
   "execution_count": 6,
   "metadata": {},
   "outputs": [
    {
     "data": {
      "text/html": [
       "<table>\n",
       "<caption>A tibble: 2 × 3</caption>\n",
       "<thead>\n",
       "\t<tr><th scope=col>gender</th><th scope=col>n</th><th scope=col>p</th></tr>\n",
       "\t<tr><th scope=col>&lt;int&gt;</th><th scope=col>&lt;int&gt;</th><th scope=col>&lt;dbl&gt;</th></tr>\n",
       "</thead>\n",
       "<tbody>\n",
       "\t<tr><td>1</td><td>14</td><td>0.4</td></tr>\n",
       "\t<tr><td>2</td><td>21</td><td>0.6</td></tr>\n",
       "</tbody>\n",
       "</table>\n"
      ],
      "text/latex": [
       "A tibble: 2 × 3\n",
       "\\begin{tabular}{r|lll}\n",
       " gender & n & p\\\\\n",
       " <int> & <int> & <dbl>\\\\\n",
       "\\hline\n",
       "\t 1 & 14 & 0.4\\\\\n",
       "\t 2 & 21 & 0.6\\\\\n",
       "\\end{tabular}\n"
      ],
      "text/markdown": [
       "\n",
       "A tibble: 2 × 3\n",
       "\n",
       "| gender &lt;int&gt; | n &lt;int&gt; | p &lt;dbl&gt; |\n",
       "|---|---|---|\n",
       "| 1 | 14 | 0.4 |\n",
       "| 2 | 21 | 0.6 |\n",
       "\n"
      ],
      "text/plain": [
       "  gender n  p  \n",
       "1 1      14 0.4\n",
       "2 2      21 0.6"
      ]
     },
     "metadata": {},
     "output_type": "display_data"
    }
   ],
   "source": [
    "sample %>% group_by(gender) %>% summarise(n=n()) %>% mutate(p = n / nrow(sample))"
   ]
  },
  {
   "cell_type": "markdown",
   "metadata": {},
   "source": [
    "#### 此樣本學院分布"
   ]
  },
  {
   "cell_type": "code",
   "execution_count": 7,
   "metadata": {},
   "outputs": [
    {
     "data": {
      "text/html": [
       "<table>\n",
       "<caption>A tibble: 1 × 3</caption>\n",
       "<thead>\n",
       "\t<tr><th scope=col>school</th><th scope=col>n</th><th scope=col>p</th></tr>\n",
       "\t<tr><th scope=col>&lt;int&gt;</th><th scope=col>&lt;int&gt;</th><th scope=col>&lt;dbl&gt;</th></tr>\n",
       "</thead>\n",
       "<tbody>\n",
       "\t<tr><td>7</td><td>35</td><td>1</td></tr>\n",
       "</tbody>\n",
       "</table>\n"
      ],
      "text/latex": [
       "A tibble: 1 × 3\n",
       "\\begin{tabular}{r|lll}\n",
       " school & n & p\\\\\n",
       " <int> & <int> & <dbl>\\\\\n",
       "\\hline\n",
       "\t 7 & 35 & 1\\\\\n",
       "\\end{tabular}\n"
      ],
      "text/markdown": [
       "\n",
       "A tibble: 1 × 3\n",
       "\n",
       "| school &lt;int&gt; | n &lt;int&gt; | p &lt;dbl&gt; |\n",
       "|---|---|---|\n",
       "| 7 | 35 | 1 |\n",
       "\n"
      ],
      "text/plain": [
       "  school n  p\n",
       "1 7      35 1"
      ]
     },
     "metadata": {},
     "output_type": "display_data"
    }
   ],
   "source": [
    "sample %>% group_by(school) %>% summarise(n=n()) %>% mutate(p = n / nrow(sample))"
   ]
  },
  {
   "cell_type": "markdown",
   "metadata": {},
   "source": [
    "#### 此樣本年級分布"
   ]
  },
  {
   "cell_type": "code",
   "execution_count": 8,
   "metadata": {
    "scrolled": true
   },
   "outputs": [
    {
     "data": {
      "text/html": [
       "<table>\n",
       "<caption>A tibble: 3 × 3</caption>\n",
       "<thead>\n",
       "\t<tr><th scope=col>grade</th><th scope=col>n</th><th scope=col>p</th></tr>\n",
       "\t<tr><th scope=col>&lt;int&gt;</th><th scope=col>&lt;int&gt;</th><th scope=col>&lt;dbl&gt;</th></tr>\n",
       "</thead>\n",
       "<tbody>\n",
       "\t<tr><td>2</td><td>12</td><td>0.3428571</td></tr>\n",
       "\t<tr><td>3</td><td>16</td><td>0.4571429</td></tr>\n",
       "\t<tr><td>4</td><td> 7</td><td>0.2000000</td></tr>\n",
       "</tbody>\n",
       "</table>\n"
      ],
      "text/latex": [
       "A tibble: 3 × 3\n",
       "\\begin{tabular}{r|lll}\n",
       " grade & n & p\\\\\n",
       " <int> & <int> & <dbl>\\\\\n",
       "\\hline\n",
       "\t 2 & 12 & 0.3428571\\\\\n",
       "\t 3 & 16 & 0.4571429\\\\\n",
       "\t 4 &  7 & 0.2000000\\\\\n",
       "\\end{tabular}\n"
      ],
      "text/markdown": [
       "\n",
       "A tibble: 3 × 3\n",
       "\n",
       "| grade &lt;int&gt; | n &lt;int&gt; | p &lt;dbl&gt; |\n",
       "|---|---|---|\n",
       "| 2 | 12 | 0.3428571 |\n",
       "| 3 | 16 | 0.4571429 |\n",
       "| 4 |  7 | 0.2000000 |\n",
       "\n"
      ],
      "text/plain": [
       "  grade n  p        \n",
       "1 2     12 0.3428571\n",
       "2 3     16 0.4571429\n",
       "3 4      7 0.2000000"
      ]
     },
     "metadata": {},
     "output_type": "display_data"
    }
   ],
   "source": [
    "sample %>% group_by(grade) %>% summarise(n=n()) %>% mutate(p = n / nrow(sample))"
   ]
  },
  {
   "cell_type": "markdown",
   "metadata": {},
   "source": [
    "## 樣本二：台大非管院大二～大四學生"
   ]
  },
  {
   "cell_type": "code",
   "execution_count": 9,
   "metadata": {},
   "outputs": [],
   "source": [
    "sample <- data %>% filter(school != 7)"
   ]
  },
  {
   "cell_type": "markdown",
   "metadata": {},
   "source": [
    "#### 此樣本性別分布"
   ]
  },
  {
   "cell_type": "code",
   "execution_count": 10,
   "metadata": {},
   "outputs": [
    {
     "data": {
      "text/html": [
       "<table>\n",
       "<caption>A tibble: 2 × 3</caption>\n",
       "<thead>\n",
       "\t<tr><th scope=col>gender</th><th scope=col>n</th><th scope=col>p</th></tr>\n",
       "\t<tr><th scope=col>&lt;int&gt;</th><th scope=col>&lt;int&gt;</th><th scope=col>&lt;dbl&gt;</th></tr>\n",
       "</thead>\n",
       "<tbody>\n",
       "\t<tr><td>1</td><td>81</td><td>0.5328947</td></tr>\n",
       "\t<tr><td>2</td><td>71</td><td>0.4671053</td></tr>\n",
       "</tbody>\n",
       "</table>\n"
      ],
      "text/latex": [
       "A tibble: 2 × 3\n",
       "\\begin{tabular}{r|lll}\n",
       " gender & n & p\\\\\n",
       " <int> & <int> & <dbl>\\\\\n",
       "\\hline\n",
       "\t 1 & 81 & 0.5328947\\\\\n",
       "\t 2 & 71 & 0.4671053\\\\\n",
       "\\end{tabular}\n"
      ],
      "text/markdown": [
       "\n",
       "A tibble: 2 × 3\n",
       "\n",
       "| gender &lt;int&gt; | n &lt;int&gt; | p &lt;dbl&gt; |\n",
       "|---|---|---|\n",
       "| 1 | 81 | 0.5328947 |\n",
       "| 2 | 71 | 0.4671053 |\n",
       "\n"
      ],
      "text/plain": [
       "  gender n  p        \n",
       "1 1      81 0.5328947\n",
       "2 2      71 0.4671053"
      ]
     },
     "metadata": {},
     "output_type": "display_data"
    }
   ],
   "source": [
    "sample %>% group_by(gender) %>% summarise(n=n()) %>% mutate(p = n / nrow(sample))"
   ]
  },
  {
   "cell_type": "markdown",
   "metadata": {},
   "source": [
    "#### 此樣本學院分布"
   ]
  },
  {
   "cell_type": "code",
   "execution_count": 11,
   "metadata": {},
   "outputs": [
    {
     "data": {
      "text/html": [
       "<table>\n",
       "<caption>A tibble: 9 × 3</caption>\n",
       "<thead>\n",
       "\t<tr><th scope=col>school</th><th scope=col>n</th><th scope=col>p</th></tr>\n",
       "\t<tr><th scope=col>&lt;int&gt;</th><th scope=col>&lt;int&gt;</th><th scope=col>&lt;dbl&gt;</th></tr>\n",
       "</thead>\n",
       "<tbody>\n",
       "\t<tr><td> 1</td><td>21</td><td>0.13815789</td></tr>\n",
       "\t<tr><td> 2</td><td>19</td><td>0.12500000</td></tr>\n",
       "\t<tr><td> 3</td><td>20</td><td>0.13157895</td></tr>\n",
       "\t<tr><td> 4</td><td>23</td><td>0.15131579</td></tr>\n",
       "\t<tr><td> 5</td><td>20</td><td>0.13157895</td></tr>\n",
       "\t<tr><td> 6</td><td>22</td><td>0.14473684</td></tr>\n",
       "\t<tr><td> 9</td><td>17</td><td>0.11184211</td></tr>\n",
       "\t<tr><td>10</td><td> 8</td><td>0.05263158</td></tr>\n",
       "\t<tr><td>11</td><td> 2</td><td>0.01315789</td></tr>\n",
       "</tbody>\n",
       "</table>\n"
      ],
      "text/latex": [
       "A tibble: 9 × 3\n",
       "\\begin{tabular}{r|lll}\n",
       " school & n & p\\\\\n",
       " <int> & <int> & <dbl>\\\\\n",
       "\\hline\n",
       "\t  1 & 21 & 0.13815789\\\\\n",
       "\t  2 & 19 & 0.12500000\\\\\n",
       "\t  3 & 20 & 0.13157895\\\\\n",
       "\t  4 & 23 & 0.15131579\\\\\n",
       "\t  5 & 20 & 0.13157895\\\\\n",
       "\t  6 & 22 & 0.14473684\\\\\n",
       "\t  9 & 17 & 0.11184211\\\\\n",
       "\t 10 &  8 & 0.05263158\\\\\n",
       "\t 11 &  2 & 0.01315789\\\\\n",
       "\\end{tabular}\n"
      ],
      "text/markdown": [
       "\n",
       "A tibble: 9 × 3\n",
       "\n",
       "| school &lt;int&gt; | n &lt;int&gt; | p &lt;dbl&gt; |\n",
       "|---|---|---|\n",
       "|  1 | 21 | 0.13815789 |\n",
       "|  2 | 19 | 0.12500000 |\n",
       "|  3 | 20 | 0.13157895 |\n",
       "|  4 | 23 | 0.15131579 |\n",
       "|  5 | 20 | 0.13157895 |\n",
       "|  6 | 22 | 0.14473684 |\n",
       "|  9 | 17 | 0.11184211 |\n",
       "| 10 |  8 | 0.05263158 |\n",
       "| 11 |  2 | 0.01315789 |\n",
       "\n"
      ],
      "text/plain": [
       "  school n  p         \n",
       "1  1     21 0.13815789\n",
       "2  2     19 0.12500000\n",
       "3  3     20 0.13157895\n",
       "4  4     23 0.15131579\n",
       "5  5     20 0.13157895\n",
       "6  6     22 0.14473684\n",
       "7  9     17 0.11184211\n",
       "8 10      8 0.05263158\n",
       "9 11      2 0.01315789"
      ]
     },
     "metadata": {},
     "output_type": "display_data"
    }
   ],
   "source": [
    "sample %>% group_by(school) %>% summarise(n=n()) %>% mutate(p = n / nrow(sample))"
   ]
  },
  {
   "cell_type": "markdown",
   "metadata": {},
   "source": [
    "#### 此樣本年級分布"
   ]
  },
  {
   "cell_type": "code",
   "execution_count": 12,
   "metadata": {
    "scrolled": true
   },
   "outputs": [
    {
     "data": {
      "text/html": [
       "<table>\n",
       "<caption>A tibble: 3 × 3</caption>\n",
       "<thead>\n",
       "\t<tr><th scope=col>grade</th><th scope=col>n</th><th scope=col>p</th></tr>\n",
       "\t<tr><th scope=col>&lt;int&gt;</th><th scope=col>&lt;int&gt;</th><th scope=col>&lt;dbl&gt;</th></tr>\n",
       "</thead>\n",
       "<tbody>\n",
       "\t<tr><td>2</td><td>51</td><td>0.3355263</td></tr>\n",
       "\t<tr><td>3</td><td>54</td><td>0.3552632</td></tr>\n",
       "\t<tr><td>4</td><td>47</td><td>0.3092105</td></tr>\n",
       "</tbody>\n",
       "</table>\n"
      ],
      "text/latex": [
       "A tibble: 3 × 3\n",
       "\\begin{tabular}{r|lll}\n",
       " grade & n & p\\\\\n",
       " <int> & <int> & <dbl>\\\\\n",
       "\\hline\n",
       "\t 2 & 51 & 0.3355263\\\\\n",
       "\t 3 & 54 & 0.3552632\\\\\n",
       "\t 4 & 47 & 0.3092105\\\\\n",
       "\\end{tabular}\n"
      ],
      "text/markdown": [
       "\n",
       "A tibble: 3 × 3\n",
       "\n",
       "| grade &lt;int&gt; | n &lt;int&gt; | p &lt;dbl&gt; |\n",
       "|---|---|---|\n",
       "| 2 | 51 | 0.3355263 |\n",
       "| 3 | 54 | 0.3552632 |\n",
       "| 4 | 47 | 0.3092105 |\n",
       "\n"
      ],
      "text/plain": [
       "  grade n  p        \n",
       "1 2     51 0.3355263\n",
       "2 3     54 0.3552632\n",
       "3 4     47 0.3092105"
      ]
     },
     "metadata": {},
     "output_type": "display_data"
    }
   ],
   "source": [
    "sample %>% group_by(grade) %>% summarise(n=n()) %>% mutate(p = n / nrow(sample))"
   ]
  },
  {
   "cell_type": "markdown",
   "metadata": {},
   "source": [
    "## 樣本三：台大男性學生"
   ]
  },
  {
   "cell_type": "code",
   "execution_count": 19,
   "metadata": {},
   "outputs": [],
   "source": [
    "sample <- data %>% filter(gender == 1)"
   ]
  },
  {
   "cell_type": "markdown",
   "metadata": {},
   "source": [
    "#### 此樣本性別分布"
   ]
  },
  {
   "cell_type": "code",
   "execution_count": 20,
   "metadata": {},
   "outputs": [
    {
     "data": {
      "text/html": [
       "<table>\n",
       "<caption>A tibble: 1 × 3</caption>\n",
       "<thead>\n",
       "\t<tr><th scope=col>gender</th><th scope=col>n</th><th scope=col>p</th></tr>\n",
       "\t<tr><th scope=col>&lt;int&gt;</th><th scope=col>&lt;int&gt;</th><th scope=col>&lt;dbl&gt;</th></tr>\n",
       "</thead>\n",
       "<tbody>\n",
       "\t<tr><td>1</td><td>95</td><td>1</td></tr>\n",
       "</tbody>\n",
       "</table>\n"
      ],
      "text/latex": [
       "A tibble: 1 × 3\n",
       "\\begin{tabular}{r|lll}\n",
       " gender & n & p\\\\\n",
       " <int> & <int> & <dbl>\\\\\n",
       "\\hline\n",
       "\t 1 & 95 & 1\\\\\n",
       "\\end{tabular}\n"
      ],
      "text/markdown": [
       "\n",
       "A tibble: 1 × 3\n",
       "\n",
       "| gender &lt;int&gt; | n &lt;int&gt; | p &lt;dbl&gt; |\n",
       "|---|---|---|\n",
       "| 1 | 95 | 1 |\n",
       "\n"
      ],
      "text/plain": [
       "  gender n  p\n",
       "1 1      95 1"
      ]
     },
     "metadata": {},
     "output_type": "display_data"
    }
   ],
   "source": [
    "sample %>% group_by(gender) %>% summarise(n=n()) %>% mutate(p = n / nrow(sample))"
   ]
  },
  {
   "cell_type": "markdown",
   "metadata": {},
   "source": [
    "#### 此樣本學院分布"
   ]
  },
  {
   "cell_type": "code",
   "execution_count": 21,
   "metadata": {},
   "outputs": [
    {
     "data": {
      "text/html": [
       "<table>\n",
       "<caption>A tibble: 10 × 3</caption>\n",
       "<thead>\n",
       "\t<tr><th scope=col>school</th><th scope=col>n</th><th scope=col>p</th></tr>\n",
       "\t<tr><th scope=col>&lt;int&gt;</th><th scope=col>&lt;int&gt;</th><th scope=col>&lt;dbl&gt;</th></tr>\n",
       "</thead>\n",
       "<tbody>\n",
       "\t<tr><td> 1</td><td> 6</td><td>0.06315789</td></tr>\n",
       "\t<tr><td> 2</td><td>11</td><td>0.11578947</td></tr>\n",
       "\t<tr><td> 3</td><td>10</td><td>0.10526316</td></tr>\n",
       "\t<tr><td> 4</td><td>10</td><td>0.10526316</td></tr>\n",
       "\t<tr><td> 5</td><td>14</td><td>0.14736842</td></tr>\n",
       "\t<tr><td> 6</td><td>11</td><td>0.11578947</td></tr>\n",
       "\t<tr><td> 7</td><td>14</td><td>0.14736842</td></tr>\n",
       "\t<tr><td> 9</td><td>14</td><td>0.14736842</td></tr>\n",
       "\t<tr><td>10</td><td> 3</td><td>0.03157895</td></tr>\n",
       "\t<tr><td>11</td><td> 2</td><td>0.02105263</td></tr>\n",
       "</tbody>\n",
       "</table>\n"
      ],
      "text/latex": [
       "A tibble: 10 × 3\n",
       "\\begin{tabular}{r|lll}\n",
       " school & n & p\\\\\n",
       " <int> & <int> & <dbl>\\\\\n",
       "\\hline\n",
       "\t  1 &  6 & 0.06315789\\\\\n",
       "\t  2 & 11 & 0.11578947\\\\\n",
       "\t  3 & 10 & 0.10526316\\\\\n",
       "\t  4 & 10 & 0.10526316\\\\\n",
       "\t  5 & 14 & 0.14736842\\\\\n",
       "\t  6 & 11 & 0.11578947\\\\\n",
       "\t  7 & 14 & 0.14736842\\\\\n",
       "\t  9 & 14 & 0.14736842\\\\\n",
       "\t 10 &  3 & 0.03157895\\\\\n",
       "\t 11 &  2 & 0.02105263\\\\\n",
       "\\end{tabular}\n"
      ],
      "text/markdown": [
       "\n",
       "A tibble: 10 × 3\n",
       "\n",
       "| school &lt;int&gt; | n &lt;int&gt; | p &lt;dbl&gt; |\n",
       "|---|---|---|\n",
       "|  1 |  6 | 0.06315789 |\n",
       "|  2 | 11 | 0.11578947 |\n",
       "|  3 | 10 | 0.10526316 |\n",
       "|  4 | 10 | 0.10526316 |\n",
       "|  5 | 14 | 0.14736842 |\n",
       "|  6 | 11 | 0.11578947 |\n",
       "|  7 | 14 | 0.14736842 |\n",
       "|  9 | 14 | 0.14736842 |\n",
       "| 10 |  3 | 0.03157895 |\n",
       "| 11 |  2 | 0.02105263 |\n",
       "\n"
      ],
      "text/plain": [
       "   school n  p         \n",
       "1   1      6 0.06315789\n",
       "2   2     11 0.11578947\n",
       "3   3     10 0.10526316\n",
       "4   4     10 0.10526316\n",
       "5   5     14 0.14736842\n",
       "6   6     11 0.11578947\n",
       "7   7     14 0.14736842\n",
       "8   9     14 0.14736842\n",
       "9  10      3 0.03157895\n",
       "10 11      2 0.02105263"
      ]
     },
     "metadata": {},
     "output_type": "display_data"
    }
   ],
   "source": [
    "sample %>% group_by(school) %>% summarise(n=n()) %>% mutate(p = n / nrow(sample))"
   ]
  },
  {
   "cell_type": "markdown",
   "metadata": {},
   "source": [
    "#### 此樣本年級分布"
   ]
  },
  {
   "cell_type": "code",
   "execution_count": 22,
   "metadata": {
    "scrolled": true
   },
   "outputs": [
    {
     "data": {
      "text/html": [
       "<table>\n",
       "<caption>A tibble: 3 × 3</caption>\n",
       "<thead>\n",
       "\t<tr><th scope=col>grade</th><th scope=col>n</th><th scope=col>p</th></tr>\n",
       "\t<tr><th scope=col>&lt;int&gt;</th><th scope=col>&lt;int&gt;</th><th scope=col>&lt;dbl&gt;</th></tr>\n",
       "</thead>\n",
       "<tbody>\n",
       "\t<tr><td>2</td><td>36</td><td>0.3789474</td></tr>\n",
       "\t<tr><td>3</td><td>30</td><td>0.3157895</td></tr>\n",
       "\t<tr><td>4</td><td>29</td><td>0.3052632</td></tr>\n",
       "</tbody>\n",
       "</table>\n"
      ],
      "text/latex": [
       "A tibble: 3 × 3\n",
       "\\begin{tabular}{r|lll}\n",
       " grade & n & p\\\\\n",
       " <int> & <int> & <dbl>\\\\\n",
       "\\hline\n",
       "\t 2 & 36 & 0.3789474\\\\\n",
       "\t 3 & 30 & 0.3157895\\\\\n",
       "\t 4 & 29 & 0.3052632\\\\\n",
       "\\end{tabular}\n"
      ],
      "text/markdown": [
       "\n",
       "A tibble: 3 × 3\n",
       "\n",
       "| grade &lt;int&gt; | n &lt;int&gt; | p &lt;dbl&gt; |\n",
       "|---|---|---|\n",
       "| 2 | 36 | 0.3789474 |\n",
       "| 3 | 30 | 0.3157895 |\n",
       "| 4 | 29 | 0.3052632 |\n",
       "\n"
      ],
      "text/plain": [
       "  grade n  p        \n",
       "1 2     36 0.3789474\n",
       "2 3     30 0.3157895\n",
       "3 4     29 0.3052632"
      ]
     },
     "metadata": {},
     "output_type": "display_data"
    }
   ],
   "source": [
    "sample %>% group_by(grade) %>% summarise(n=n()) %>% mutate(p = n / nrow(sample))"
   ]
  },
  {
   "cell_type": "markdown",
   "metadata": {},
   "source": [
    "## 樣本四：台大女性學生"
   ]
  },
  {
   "cell_type": "code",
   "execution_count": 23,
   "metadata": {},
   "outputs": [],
   "source": [
    "sample <- data %>% filter(gender == 2)"
   ]
  },
  {
   "cell_type": "markdown",
   "metadata": {},
   "source": [
    "#### 此樣本性別分布"
   ]
  },
  {
   "cell_type": "code",
   "execution_count": 24,
   "metadata": {},
   "outputs": [
    {
     "data": {
      "text/html": [
       "<table>\n",
       "<caption>A tibble: 1 × 3</caption>\n",
       "<thead>\n",
       "\t<tr><th scope=col>gender</th><th scope=col>n</th><th scope=col>p</th></tr>\n",
       "\t<tr><th scope=col>&lt;int&gt;</th><th scope=col>&lt;int&gt;</th><th scope=col>&lt;dbl&gt;</th></tr>\n",
       "</thead>\n",
       "<tbody>\n",
       "\t<tr><td>2</td><td>92</td><td>1</td></tr>\n",
       "</tbody>\n",
       "</table>\n"
      ],
      "text/latex": [
       "A tibble: 1 × 3\n",
       "\\begin{tabular}{r|lll}\n",
       " gender & n & p\\\\\n",
       " <int> & <int> & <dbl>\\\\\n",
       "\\hline\n",
       "\t 2 & 92 & 1\\\\\n",
       "\\end{tabular}\n"
      ],
      "text/markdown": [
       "\n",
       "A tibble: 1 × 3\n",
       "\n",
       "| gender &lt;int&gt; | n &lt;int&gt; | p &lt;dbl&gt; |\n",
       "|---|---|---|\n",
       "| 2 | 92 | 1 |\n",
       "\n"
      ],
      "text/plain": [
       "  gender n  p\n",
       "1 2      92 1"
      ]
     },
     "metadata": {},
     "output_type": "display_data"
    }
   ],
   "source": [
    "sample %>% group_by(gender) %>% summarise(n=n()) %>% mutate(p = n / nrow(sample))"
   ]
  },
  {
   "cell_type": "markdown",
   "metadata": {},
   "source": [
    "#### 此樣本學院分布"
   ]
  },
  {
   "cell_type": "code",
   "execution_count": 25,
   "metadata": {},
   "outputs": [
    {
     "data": {
      "text/html": [
       "<table>\n",
       "<caption>A tibble: 9 × 3</caption>\n",
       "<thead>\n",
       "\t<tr><th scope=col>school</th><th scope=col>n</th><th scope=col>p</th></tr>\n",
       "\t<tr><th scope=col>&lt;int&gt;</th><th scope=col>&lt;int&gt;</th><th scope=col>&lt;dbl&gt;</th></tr>\n",
       "</thead>\n",
       "<tbody>\n",
       "\t<tr><td> 1</td><td>15</td><td>0.16304348</td></tr>\n",
       "\t<tr><td> 2</td><td> 8</td><td>0.08695652</td></tr>\n",
       "\t<tr><td> 3</td><td>10</td><td>0.10869565</td></tr>\n",
       "\t<tr><td> 4</td><td>13</td><td>0.14130435</td></tr>\n",
       "\t<tr><td> 5</td><td> 6</td><td>0.06521739</td></tr>\n",
       "\t<tr><td> 6</td><td>11</td><td>0.11956522</td></tr>\n",
       "\t<tr><td> 7</td><td>21</td><td>0.22826087</td></tr>\n",
       "\t<tr><td> 9</td><td> 3</td><td>0.03260870</td></tr>\n",
       "\t<tr><td>10</td><td> 5</td><td>0.05434783</td></tr>\n",
       "</tbody>\n",
       "</table>\n"
      ],
      "text/latex": [
       "A tibble: 9 × 3\n",
       "\\begin{tabular}{r|lll}\n",
       " school & n & p\\\\\n",
       " <int> & <int> & <dbl>\\\\\n",
       "\\hline\n",
       "\t  1 & 15 & 0.16304348\\\\\n",
       "\t  2 &  8 & 0.08695652\\\\\n",
       "\t  3 & 10 & 0.10869565\\\\\n",
       "\t  4 & 13 & 0.14130435\\\\\n",
       "\t  5 &  6 & 0.06521739\\\\\n",
       "\t  6 & 11 & 0.11956522\\\\\n",
       "\t  7 & 21 & 0.22826087\\\\\n",
       "\t  9 &  3 & 0.03260870\\\\\n",
       "\t 10 &  5 & 0.05434783\\\\\n",
       "\\end{tabular}\n"
      ],
      "text/markdown": [
       "\n",
       "A tibble: 9 × 3\n",
       "\n",
       "| school &lt;int&gt; | n &lt;int&gt; | p &lt;dbl&gt; |\n",
       "|---|---|---|\n",
       "|  1 | 15 | 0.16304348 |\n",
       "|  2 |  8 | 0.08695652 |\n",
       "|  3 | 10 | 0.10869565 |\n",
       "|  4 | 13 | 0.14130435 |\n",
       "|  5 |  6 | 0.06521739 |\n",
       "|  6 | 11 | 0.11956522 |\n",
       "|  7 | 21 | 0.22826087 |\n",
       "|  9 |  3 | 0.03260870 |\n",
       "| 10 |  5 | 0.05434783 |\n",
       "\n"
      ],
      "text/plain": [
       "  school n  p         \n",
       "1  1     15 0.16304348\n",
       "2  2      8 0.08695652\n",
       "3  3     10 0.10869565\n",
       "4  4     13 0.14130435\n",
       "5  5      6 0.06521739\n",
       "6  6     11 0.11956522\n",
       "7  7     21 0.22826087\n",
       "8  9      3 0.03260870\n",
       "9 10      5 0.05434783"
      ]
     },
     "metadata": {},
     "output_type": "display_data"
    }
   ],
   "source": [
    "sample %>% group_by(school) %>% summarise(n=n()) %>% mutate(p = n / nrow(sample))"
   ]
  },
  {
   "cell_type": "markdown",
   "metadata": {},
   "source": [
    "#### 此樣本年級分布"
   ]
  },
  {
   "cell_type": "code",
   "execution_count": 26,
   "metadata": {
    "scrolled": true
   },
   "outputs": [
    {
     "data": {
      "text/html": [
       "<table>\n",
       "<caption>A tibble: 3 × 3</caption>\n",
       "<thead>\n",
       "\t<tr><th scope=col>grade</th><th scope=col>n</th><th scope=col>p</th></tr>\n",
       "\t<tr><th scope=col>&lt;int&gt;</th><th scope=col>&lt;int&gt;</th><th scope=col>&lt;dbl&gt;</th></tr>\n",
       "</thead>\n",
       "<tbody>\n",
       "\t<tr><td>2</td><td>27</td><td>0.2934783</td></tr>\n",
       "\t<tr><td>3</td><td>40</td><td>0.4347826</td></tr>\n",
       "\t<tr><td>4</td><td>25</td><td>0.2717391</td></tr>\n",
       "</tbody>\n",
       "</table>\n"
      ],
      "text/latex": [
       "A tibble: 3 × 3\n",
       "\\begin{tabular}{r|lll}\n",
       " grade & n & p\\\\\n",
       " <int> & <int> & <dbl>\\\\\n",
       "\\hline\n",
       "\t 2 & 27 & 0.2934783\\\\\n",
       "\t 3 & 40 & 0.4347826\\\\\n",
       "\t 4 & 25 & 0.2717391\\\\\n",
       "\\end{tabular}\n"
      ],
      "text/markdown": [
       "\n",
       "A tibble: 3 × 3\n",
       "\n",
       "| grade &lt;int&gt; | n &lt;int&gt; | p &lt;dbl&gt; |\n",
       "|---|---|---|\n",
       "| 2 | 27 | 0.2934783 |\n",
       "| 3 | 40 | 0.4347826 |\n",
       "| 4 | 25 | 0.2717391 |\n",
       "\n"
      ],
      "text/plain": [
       "  grade n  p        \n",
       "1 2     27 0.2934783\n",
       "2 3     40 0.4347826\n",
       "3 4     25 0.2717391"
      ]
     },
     "metadata": {},
     "output_type": "display_data"
    }
   ],
   "source": [
    "sample %>% group_by(grade) %>% summarise(n=n()) %>% mutate(p = n / nrow(sample))"
   ]
  },
  {
   "cell_type": "markdown",
   "metadata": {},
   "source": [
    "## 樣本五：台大大二學生"
   ]
  },
  {
   "cell_type": "code",
   "execution_count": 27,
   "metadata": {},
   "outputs": [],
   "source": [
    "sample <- data %>% filter(grade == 2)"
   ]
  },
  {
   "cell_type": "markdown",
   "metadata": {},
   "source": [
    "#### 此樣本性別分布"
   ]
  },
  {
   "cell_type": "code",
   "execution_count": 28,
   "metadata": {},
   "outputs": [
    {
     "data": {
      "text/html": [
       "<table>\n",
       "<caption>A tibble: 2 × 3</caption>\n",
       "<thead>\n",
       "\t<tr><th scope=col>gender</th><th scope=col>n</th><th scope=col>p</th></tr>\n",
       "\t<tr><th scope=col>&lt;int&gt;</th><th scope=col>&lt;int&gt;</th><th scope=col>&lt;dbl&gt;</th></tr>\n",
       "</thead>\n",
       "<tbody>\n",
       "\t<tr><td>1</td><td>36</td><td>0.5714286</td></tr>\n",
       "\t<tr><td>2</td><td>27</td><td>0.4285714</td></tr>\n",
       "</tbody>\n",
       "</table>\n"
      ],
      "text/latex": [
       "A tibble: 2 × 3\n",
       "\\begin{tabular}{r|lll}\n",
       " gender & n & p\\\\\n",
       " <int> & <int> & <dbl>\\\\\n",
       "\\hline\n",
       "\t 1 & 36 & 0.5714286\\\\\n",
       "\t 2 & 27 & 0.4285714\\\\\n",
       "\\end{tabular}\n"
      ],
      "text/markdown": [
       "\n",
       "A tibble: 2 × 3\n",
       "\n",
       "| gender &lt;int&gt; | n &lt;int&gt; | p &lt;dbl&gt; |\n",
       "|---|---|---|\n",
       "| 1 | 36 | 0.5714286 |\n",
       "| 2 | 27 | 0.4285714 |\n",
       "\n"
      ],
      "text/plain": [
       "  gender n  p        \n",
       "1 1      36 0.5714286\n",
       "2 2      27 0.4285714"
      ]
     },
     "metadata": {},
     "output_type": "display_data"
    }
   ],
   "source": [
    "sample %>% group_by(gender) %>% summarise(n=n()) %>% mutate(p = n / nrow(sample))"
   ]
  },
  {
   "cell_type": "markdown",
   "metadata": {},
   "source": [
    "#### 此樣本學院分布"
   ]
  },
  {
   "cell_type": "code",
   "execution_count": 29,
   "metadata": {},
   "outputs": [
    {
     "data": {
      "text/html": [
       "<table>\n",
       "<caption>A tibble: 10 × 3</caption>\n",
       "<thead>\n",
       "\t<tr><th scope=col>school</th><th scope=col>n</th><th scope=col>p</th></tr>\n",
       "\t<tr><th scope=col>&lt;int&gt;</th><th scope=col>&lt;int&gt;</th><th scope=col>&lt;dbl&gt;</th></tr>\n",
       "</thead>\n",
       "<tbody>\n",
       "\t<tr><td> 1</td><td> 7</td><td>0.11111111</td></tr>\n",
       "\t<tr><td> 2</td><td> 5</td><td>0.07936508</td></tr>\n",
       "\t<tr><td> 3</td><td> 8</td><td>0.12698413</td></tr>\n",
       "\t<tr><td> 4</td><td> 6</td><td>0.09523810</td></tr>\n",
       "\t<tr><td> 5</td><td> 5</td><td>0.07936508</td></tr>\n",
       "\t<tr><td> 6</td><td> 6</td><td>0.09523810</td></tr>\n",
       "\t<tr><td> 7</td><td>12</td><td>0.19047619</td></tr>\n",
       "\t<tr><td> 9</td><td> 9</td><td>0.14285714</td></tr>\n",
       "\t<tr><td>10</td><td> 4</td><td>0.06349206</td></tr>\n",
       "\t<tr><td>11</td><td> 1</td><td>0.01587302</td></tr>\n",
       "</tbody>\n",
       "</table>\n"
      ],
      "text/latex": [
       "A tibble: 10 × 3\n",
       "\\begin{tabular}{r|lll}\n",
       " school & n & p\\\\\n",
       " <int> & <int> & <dbl>\\\\\n",
       "\\hline\n",
       "\t  1 &  7 & 0.11111111\\\\\n",
       "\t  2 &  5 & 0.07936508\\\\\n",
       "\t  3 &  8 & 0.12698413\\\\\n",
       "\t  4 &  6 & 0.09523810\\\\\n",
       "\t  5 &  5 & 0.07936508\\\\\n",
       "\t  6 &  6 & 0.09523810\\\\\n",
       "\t  7 & 12 & 0.19047619\\\\\n",
       "\t  9 &  9 & 0.14285714\\\\\n",
       "\t 10 &  4 & 0.06349206\\\\\n",
       "\t 11 &  1 & 0.01587302\\\\\n",
       "\\end{tabular}\n"
      ],
      "text/markdown": [
       "\n",
       "A tibble: 10 × 3\n",
       "\n",
       "| school &lt;int&gt; | n &lt;int&gt; | p &lt;dbl&gt; |\n",
       "|---|---|---|\n",
       "|  1 |  7 | 0.11111111 |\n",
       "|  2 |  5 | 0.07936508 |\n",
       "|  3 |  8 | 0.12698413 |\n",
       "|  4 |  6 | 0.09523810 |\n",
       "|  5 |  5 | 0.07936508 |\n",
       "|  6 |  6 | 0.09523810 |\n",
       "|  7 | 12 | 0.19047619 |\n",
       "|  9 |  9 | 0.14285714 |\n",
       "| 10 |  4 | 0.06349206 |\n",
       "| 11 |  1 | 0.01587302 |\n",
       "\n"
      ],
      "text/plain": [
       "   school n  p         \n",
       "1   1      7 0.11111111\n",
       "2   2      5 0.07936508\n",
       "3   3      8 0.12698413\n",
       "4   4      6 0.09523810\n",
       "5   5      5 0.07936508\n",
       "6   6      6 0.09523810\n",
       "7   7     12 0.19047619\n",
       "8   9      9 0.14285714\n",
       "9  10      4 0.06349206\n",
       "10 11      1 0.01587302"
      ]
     },
     "metadata": {},
     "output_type": "display_data"
    }
   ],
   "source": [
    "sample %>% group_by(school) %>% summarise(n=n()) %>% mutate(p = n / nrow(sample))"
   ]
  },
  {
   "cell_type": "markdown",
   "metadata": {},
   "source": [
    "#### 此樣本年級分布"
   ]
  },
  {
   "cell_type": "code",
   "execution_count": 30,
   "metadata": {
    "scrolled": true
   },
   "outputs": [
    {
     "data": {
      "text/html": [
       "<table>\n",
       "<caption>A tibble: 1 × 3</caption>\n",
       "<thead>\n",
       "\t<tr><th scope=col>grade</th><th scope=col>n</th><th scope=col>p</th></tr>\n",
       "\t<tr><th scope=col>&lt;int&gt;</th><th scope=col>&lt;int&gt;</th><th scope=col>&lt;dbl&gt;</th></tr>\n",
       "</thead>\n",
       "<tbody>\n",
       "\t<tr><td>2</td><td>63</td><td>1</td></tr>\n",
       "</tbody>\n",
       "</table>\n"
      ],
      "text/latex": [
       "A tibble: 1 × 3\n",
       "\\begin{tabular}{r|lll}\n",
       " grade & n & p\\\\\n",
       " <int> & <int> & <dbl>\\\\\n",
       "\\hline\n",
       "\t 2 & 63 & 1\\\\\n",
       "\\end{tabular}\n"
      ],
      "text/markdown": [
       "\n",
       "A tibble: 1 × 3\n",
       "\n",
       "| grade &lt;int&gt; | n &lt;int&gt; | p &lt;dbl&gt; |\n",
       "|---|---|---|\n",
       "| 2 | 63 | 1 |\n",
       "\n"
      ],
      "text/plain": [
       "  grade n  p\n",
       "1 2     63 1"
      ]
     },
     "metadata": {},
     "output_type": "display_data"
    }
   ],
   "source": [
    "sample %>% group_by(grade) %>% summarise(n=n()) %>% mutate(p = n / nrow(sample))"
   ]
  },
  {
   "cell_type": "markdown",
   "metadata": {},
   "source": [
    "## 樣本六：台大大三學生"
   ]
  },
  {
   "cell_type": "code",
   "execution_count": 31,
   "metadata": {},
   "outputs": [],
   "source": [
    "sample <- data %>% filter(grade == 3)"
   ]
  },
  {
   "cell_type": "markdown",
   "metadata": {},
   "source": [
    "#### 此樣本性別分布"
   ]
  },
  {
   "cell_type": "code",
   "execution_count": 32,
   "metadata": {},
   "outputs": [
    {
     "data": {
      "text/html": [
       "<table>\n",
       "<caption>A tibble: 2 × 3</caption>\n",
       "<thead>\n",
       "\t<tr><th scope=col>gender</th><th scope=col>n</th><th scope=col>p</th></tr>\n",
       "\t<tr><th scope=col>&lt;int&gt;</th><th scope=col>&lt;int&gt;</th><th scope=col>&lt;dbl&gt;</th></tr>\n",
       "</thead>\n",
       "<tbody>\n",
       "\t<tr><td>1</td><td>30</td><td>0.4285714</td></tr>\n",
       "\t<tr><td>2</td><td>40</td><td>0.5714286</td></tr>\n",
       "</tbody>\n",
       "</table>\n"
      ],
      "text/latex": [
       "A tibble: 2 × 3\n",
       "\\begin{tabular}{r|lll}\n",
       " gender & n & p\\\\\n",
       " <int> & <int> & <dbl>\\\\\n",
       "\\hline\n",
       "\t 1 & 30 & 0.4285714\\\\\n",
       "\t 2 & 40 & 0.5714286\\\\\n",
       "\\end{tabular}\n"
      ],
      "text/markdown": [
       "\n",
       "A tibble: 2 × 3\n",
       "\n",
       "| gender &lt;int&gt; | n &lt;int&gt; | p &lt;dbl&gt; |\n",
       "|---|---|---|\n",
       "| 1 | 30 | 0.4285714 |\n",
       "| 2 | 40 | 0.5714286 |\n",
       "\n"
      ],
      "text/plain": [
       "  gender n  p        \n",
       "1 1      30 0.4285714\n",
       "2 2      40 0.5714286"
      ]
     },
     "metadata": {},
     "output_type": "display_data"
    }
   ],
   "source": [
    "sample %>% group_by(gender) %>% summarise(n=n()) %>% mutate(p = n / nrow(sample))"
   ]
  },
  {
   "cell_type": "markdown",
   "metadata": {},
   "source": [
    "#### 此樣本學院分布"
   ]
  },
  {
   "cell_type": "code",
   "execution_count": 33,
   "metadata": {},
   "outputs": [
    {
     "data": {
      "text/html": [
       "<table>\n",
       "<caption>A tibble: 10 × 3</caption>\n",
       "<thead>\n",
       "\t<tr><th scope=col>school</th><th scope=col>n</th><th scope=col>p</th></tr>\n",
       "\t<tr><th scope=col>&lt;int&gt;</th><th scope=col>&lt;int&gt;</th><th scope=col>&lt;dbl&gt;</th></tr>\n",
       "</thead>\n",
       "<tbody>\n",
       "\t<tr><td> 1</td><td> 8</td><td>0.11428571</td></tr>\n",
       "\t<tr><td> 2</td><td> 7</td><td>0.10000000</td></tr>\n",
       "\t<tr><td> 3</td><td> 7</td><td>0.10000000</td></tr>\n",
       "\t<tr><td> 4</td><td>12</td><td>0.17142857</td></tr>\n",
       "\t<tr><td> 5</td><td> 4</td><td>0.05714286</td></tr>\n",
       "\t<tr><td> 6</td><td> 8</td><td>0.11428571</td></tr>\n",
       "\t<tr><td> 7</td><td>16</td><td>0.22857143</td></tr>\n",
       "\t<tr><td> 9</td><td> 4</td><td>0.05714286</td></tr>\n",
       "\t<tr><td>10</td><td> 3</td><td>0.04285714</td></tr>\n",
       "\t<tr><td>11</td><td> 1</td><td>0.01428571</td></tr>\n",
       "</tbody>\n",
       "</table>\n"
      ],
      "text/latex": [
       "A tibble: 10 × 3\n",
       "\\begin{tabular}{r|lll}\n",
       " school & n & p\\\\\n",
       " <int> & <int> & <dbl>\\\\\n",
       "\\hline\n",
       "\t  1 &  8 & 0.11428571\\\\\n",
       "\t  2 &  7 & 0.10000000\\\\\n",
       "\t  3 &  7 & 0.10000000\\\\\n",
       "\t  4 & 12 & 0.17142857\\\\\n",
       "\t  5 &  4 & 0.05714286\\\\\n",
       "\t  6 &  8 & 0.11428571\\\\\n",
       "\t  7 & 16 & 0.22857143\\\\\n",
       "\t  9 &  4 & 0.05714286\\\\\n",
       "\t 10 &  3 & 0.04285714\\\\\n",
       "\t 11 &  1 & 0.01428571\\\\\n",
       "\\end{tabular}\n"
      ],
      "text/markdown": [
       "\n",
       "A tibble: 10 × 3\n",
       "\n",
       "| school &lt;int&gt; | n &lt;int&gt; | p &lt;dbl&gt; |\n",
       "|---|---|---|\n",
       "|  1 |  8 | 0.11428571 |\n",
       "|  2 |  7 | 0.10000000 |\n",
       "|  3 |  7 | 0.10000000 |\n",
       "|  4 | 12 | 0.17142857 |\n",
       "|  5 |  4 | 0.05714286 |\n",
       "|  6 |  8 | 0.11428571 |\n",
       "|  7 | 16 | 0.22857143 |\n",
       "|  9 |  4 | 0.05714286 |\n",
       "| 10 |  3 | 0.04285714 |\n",
       "| 11 |  1 | 0.01428571 |\n",
       "\n"
      ],
      "text/plain": [
       "   school n  p         \n",
       "1   1      8 0.11428571\n",
       "2   2      7 0.10000000\n",
       "3   3      7 0.10000000\n",
       "4   4     12 0.17142857\n",
       "5   5      4 0.05714286\n",
       "6   6      8 0.11428571\n",
       "7   7     16 0.22857143\n",
       "8   9      4 0.05714286\n",
       "9  10      3 0.04285714\n",
       "10 11      1 0.01428571"
      ]
     },
     "metadata": {},
     "output_type": "display_data"
    }
   ],
   "source": [
    "sample %>% group_by(school) %>% summarise(n=n()) %>% mutate(p = n / nrow(sample))"
   ]
  },
  {
   "cell_type": "markdown",
   "metadata": {},
   "source": [
    "#### 此樣本年級分布"
   ]
  },
  {
   "cell_type": "code",
   "execution_count": 34,
   "metadata": {
    "scrolled": true
   },
   "outputs": [
    {
     "data": {
      "text/html": [
       "<table>\n",
       "<caption>A tibble: 1 × 3</caption>\n",
       "<thead>\n",
       "\t<tr><th scope=col>grade</th><th scope=col>n</th><th scope=col>p</th></tr>\n",
       "\t<tr><th scope=col>&lt;int&gt;</th><th scope=col>&lt;int&gt;</th><th scope=col>&lt;dbl&gt;</th></tr>\n",
       "</thead>\n",
       "<tbody>\n",
       "\t<tr><td>3</td><td>70</td><td>1</td></tr>\n",
       "</tbody>\n",
       "</table>\n"
      ],
      "text/latex": [
       "A tibble: 1 × 3\n",
       "\\begin{tabular}{r|lll}\n",
       " grade & n & p\\\\\n",
       " <int> & <int> & <dbl>\\\\\n",
       "\\hline\n",
       "\t 3 & 70 & 1\\\\\n",
       "\\end{tabular}\n"
      ],
      "text/markdown": [
       "\n",
       "A tibble: 1 × 3\n",
       "\n",
       "| grade &lt;int&gt; | n &lt;int&gt; | p &lt;dbl&gt; |\n",
       "|---|---|---|\n",
       "| 3 | 70 | 1 |\n",
       "\n"
      ],
      "text/plain": [
       "  grade n  p\n",
       "1 3     70 1"
      ]
     },
     "metadata": {},
     "output_type": "display_data"
    }
   ],
   "source": [
    "sample %>% group_by(grade) %>% summarise(n=n()) %>% mutate(p = n / nrow(sample))"
   ]
  },
  {
   "cell_type": "markdown",
   "metadata": {},
   "source": [
    "## 樣本七：台大大四學生"
   ]
  },
  {
   "cell_type": "code",
   "execution_count": 35,
   "metadata": {},
   "outputs": [],
   "source": [
    "sample <- data %>% filter(grade == 4)"
   ]
  },
  {
   "cell_type": "markdown",
   "metadata": {},
   "source": [
    "#### 此樣本性別分布"
   ]
  },
  {
   "cell_type": "code",
   "execution_count": 36,
   "metadata": {},
   "outputs": [
    {
     "data": {
      "text/html": [
       "<table>\n",
       "<caption>A tibble: 2 × 3</caption>\n",
       "<thead>\n",
       "\t<tr><th scope=col>gender</th><th scope=col>n</th><th scope=col>p</th></tr>\n",
       "\t<tr><th scope=col>&lt;int&gt;</th><th scope=col>&lt;int&gt;</th><th scope=col>&lt;dbl&gt;</th></tr>\n",
       "</thead>\n",
       "<tbody>\n",
       "\t<tr><td>1</td><td>29</td><td>0.537037</td></tr>\n",
       "\t<tr><td>2</td><td>25</td><td>0.462963</td></tr>\n",
       "</tbody>\n",
       "</table>\n"
      ],
      "text/latex": [
       "A tibble: 2 × 3\n",
       "\\begin{tabular}{r|lll}\n",
       " gender & n & p\\\\\n",
       " <int> & <int> & <dbl>\\\\\n",
       "\\hline\n",
       "\t 1 & 29 & 0.537037\\\\\n",
       "\t 2 & 25 & 0.462963\\\\\n",
       "\\end{tabular}\n"
      ],
      "text/markdown": [
       "\n",
       "A tibble: 2 × 3\n",
       "\n",
       "| gender &lt;int&gt; | n &lt;int&gt; | p &lt;dbl&gt; |\n",
       "|---|---|---|\n",
       "| 1 | 29 | 0.537037 |\n",
       "| 2 | 25 | 0.462963 |\n",
       "\n"
      ],
      "text/plain": [
       "  gender n  p       \n",
       "1 1      29 0.537037\n",
       "2 2      25 0.462963"
      ]
     },
     "metadata": {},
     "output_type": "display_data"
    }
   ],
   "source": [
    "sample %>% group_by(gender) %>% summarise(n=n()) %>% mutate(p = n / nrow(sample))"
   ]
  },
  {
   "cell_type": "markdown",
   "metadata": {},
   "source": [
    "#### 此樣本學院分布"
   ]
  },
  {
   "cell_type": "code",
   "execution_count": 37,
   "metadata": {},
   "outputs": [
    {
     "data": {
      "text/html": [
       "<table>\n",
       "<caption>A tibble: 9 × 3</caption>\n",
       "<thead>\n",
       "\t<tr><th scope=col>school</th><th scope=col>n</th><th scope=col>p</th></tr>\n",
       "\t<tr><th scope=col>&lt;int&gt;</th><th scope=col>&lt;int&gt;</th><th scope=col>&lt;dbl&gt;</th></tr>\n",
       "</thead>\n",
       "<tbody>\n",
       "\t<tr><td> 1</td><td> 6</td><td>0.11111111</td></tr>\n",
       "\t<tr><td> 2</td><td> 7</td><td>0.12962963</td></tr>\n",
       "\t<tr><td> 3</td><td> 5</td><td>0.09259259</td></tr>\n",
       "\t<tr><td> 4</td><td> 5</td><td>0.09259259</td></tr>\n",
       "\t<tr><td> 5</td><td>11</td><td>0.20370370</td></tr>\n",
       "\t<tr><td> 6</td><td> 8</td><td>0.14814815</td></tr>\n",
       "\t<tr><td> 7</td><td> 7</td><td>0.12962963</td></tr>\n",
       "\t<tr><td> 9</td><td> 4</td><td>0.07407407</td></tr>\n",
       "\t<tr><td>10</td><td> 1</td><td>0.01851852</td></tr>\n",
       "</tbody>\n",
       "</table>\n"
      ],
      "text/latex": [
       "A tibble: 9 × 3\n",
       "\\begin{tabular}{r|lll}\n",
       " school & n & p\\\\\n",
       " <int> & <int> & <dbl>\\\\\n",
       "\\hline\n",
       "\t  1 &  6 & 0.11111111\\\\\n",
       "\t  2 &  7 & 0.12962963\\\\\n",
       "\t  3 &  5 & 0.09259259\\\\\n",
       "\t  4 &  5 & 0.09259259\\\\\n",
       "\t  5 & 11 & 0.20370370\\\\\n",
       "\t  6 &  8 & 0.14814815\\\\\n",
       "\t  7 &  7 & 0.12962963\\\\\n",
       "\t  9 &  4 & 0.07407407\\\\\n",
       "\t 10 &  1 & 0.01851852\\\\\n",
       "\\end{tabular}\n"
      ],
      "text/markdown": [
       "\n",
       "A tibble: 9 × 3\n",
       "\n",
       "| school &lt;int&gt; | n &lt;int&gt; | p &lt;dbl&gt; |\n",
       "|---|---|---|\n",
       "|  1 |  6 | 0.11111111 |\n",
       "|  2 |  7 | 0.12962963 |\n",
       "|  3 |  5 | 0.09259259 |\n",
       "|  4 |  5 | 0.09259259 |\n",
       "|  5 | 11 | 0.20370370 |\n",
       "|  6 |  8 | 0.14814815 |\n",
       "|  7 |  7 | 0.12962963 |\n",
       "|  9 |  4 | 0.07407407 |\n",
       "| 10 |  1 | 0.01851852 |\n",
       "\n"
      ],
      "text/plain": [
       "  school n  p         \n",
       "1  1      6 0.11111111\n",
       "2  2      7 0.12962963\n",
       "3  3      5 0.09259259\n",
       "4  4      5 0.09259259\n",
       "5  5     11 0.20370370\n",
       "6  6      8 0.14814815\n",
       "7  7      7 0.12962963\n",
       "8  9      4 0.07407407\n",
       "9 10      1 0.01851852"
      ]
     },
     "metadata": {},
     "output_type": "display_data"
    }
   ],
   "source": [
    "sample %>% group_by(school) %>% summarise(n=n()) %>% mutate(p = n / nrow(sample))"
   ]
  },
  {
   "cell_type": "markdown",
   "metadata": {},
   "source": [
    "#### 此樣本年級分布"
   ]
  },
  {
   "cell_type": "code",
   "execution_count": 38,
   "metadata": {
    "scrolled": true
   },
   "outputs": [
    {
     "data": {
      "text/html": [
       "<table>\n",
       "<caption>A tibble: 1 × 3</caption>\n",
       "<thead>\n",
       "\t<tr><th scope=col>grade</th><th scope=col>n</th><th scope=col>p</th></tr>\n",
       "\t<tr><th scope=col>&lt;int&gt;</th><th scope=col>&lt;int&gt;</th><th scope=col>&lt;dbl&gt;</th></tr>\n",
       "</thead>\n",
       "<tbody>\n",
       "\t<tr><td>4</td><td>54</td><td>1</td></tr>\n",
       "</tbody>\n",
       "</table>\n"
      ],
      "text/latex": [
       "A tibble: 1 × 3\n",
       "\\begin{tabular}{r|lll}\n",
       " grade & n & p\\\\\n",
       " <int> & <int> & <dbl>\\\\\n",
       "\\hline\n",
       "\t 4 & 54 & 1\\\\\n",
       "\\end{tabular}\n"
      ],
      "text/markdown": [
       "\n",
       "A tibble: 1 × 3\n",
       "\n",
       "| grade &lt;int&gt; | n &lt;int&gt; | p &lt;dbl&gt; |\n",
       "|---|---|---|\n",
       "| 4 | 54 | 1 |\n",
       "\n"
      ],
      "text/plain": [
       "  grade n  p\n",
       "1 4     54 1"
      ]
     },
     "metadata": {},
     "output_type": "display_data"
    }
   ],
   "source": [
    "sample %>% group_by(grade) %>% summarise(n=n()) %>% mutate(p = n / nrow(sample))"
   ]
  }
 ],
 "metadata": {
  "kernelspec": {
   "display_name": "R",
   "language": "R",
   "name": "ir"
  },
  "language_info": {
   "codemirror_mode": "r",
   "file_extension": ".r",
   "mimetype": "text/x-r-source",
   "name": "R",
   "pygments_lexer": "r",
   "version": "3.5.2"
  }
 },
 "nbformat": 4,
 "nbformat_minor": 2
}
