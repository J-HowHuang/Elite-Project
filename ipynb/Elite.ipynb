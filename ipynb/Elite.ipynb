{
 "cells": [
  {
   "cell_type": "markdown",
   "metadata": {},
   "source": [
    "1. 計算各年級的學院分布"
   ]
  },
  {
   "cell_type": "markdown",
   "metadata": {},
   "source": [
    "2. 計算各性別的學院分布"
   ]
  },
  {
   "cell_type": "markdown",
   "metadata": {},
   "source": [
    "3. 計算各年級的性別分布"
   ]
  },
  {
   "cell_type": "markdown",
   "metadata": {},
   "source": [
    "4. 計算管院與非管院的的年級分布"
   ]
  },
  {
   "cell_type": "markdown",
   "metadata": {},
   "source": [
    "5. 計算總體的性別、學院、年級分布"
   ]
  },
  {
   "cell_type": "markdown",
   "metadata": {},
   "source": [
    "6. 計算整體、管院、非管院、各學院、各性別、各年級的hasMacbook, hasiPhone, hasSuit, hasCreditCard, hasAttendedBusinessCompetition, exchangeAbroad的二項分布比例"
   ]
  },
  {
   "cell_type": "markdown",
   "metadata": {},
   "source": [
    "7. 計算整體、管院、非管院、各學院、各性別、各年級的 timeToDressUp, cafePricePerWeek, mealPricePerDay, EnglishProficiency(need to drop na), coursesInCoM, GPA, numbersOfTravelingAbroad, barPerMonth 的histogram"
   ]
  },
  {
   "cell_type": "markdown",
   "metadata": {},
   "source": [
    "8. 計算整體、管院、非管院、各學院、各性別、各年級的 club, interestMention的長條圖"
   ]
  },
  {
   "cell_type": "markdown",
   "metadata": {},
   "source": [
    "10. 對6的結果計算信賴區間"
   ]
  }
 ],
 "metadata": {
  "kernelspec": {
   "display_name": "R",
   "language": "R",
   "name": "ir"
  },
  "language_info": {
   "codemirror_mode": "r",
   "file_extension": ".r",
   "mimetype": "text/x-r-source",
   "name": "R",
   "pygments_lexer": "r",
   "version": "3.5.2"
  }
 },
 "nbformat": 4,
 "nbformat_minor": 2
}
